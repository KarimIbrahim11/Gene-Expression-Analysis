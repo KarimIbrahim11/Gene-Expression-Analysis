{
 "cells": [
  {
   "cell_type": "markdown",
   "metadata": {},
   "source": [
    "## Exploratory Data Analysis"
   ]
  },
  {
   "cell_type": "markdown",
   "metadata": {},
   "source": [
    "Loading libraries"
   ]
  },
  {
   "cell_type": "code",
   "execution_count": 1,
   "metadata": {},
   "outputs": [],
   "source": [
    "import json\n",
    "import ijson\n",
    "import logging\n",
    "\n",
    "import numpy as np\n",
    "\n",
    "from decimal import Decimal\n",
    "from pathlib import Path\n",
    "from typing import List, Tuple\n",
    "\n",
    "from src.utils.data import *\n",
    "from src.utils.plots import *\n",
    "from src.utils.sampling import *\n",
    "from src.utils.memory_management import *"
   ]
  },
  {
   "cell_type": "markdown",
   "metadata": {},
   "source": [
    "Setting up Logger"
   ]
  },
  {
   "cell_type": "code",
   "execution_count": 2,
   "metadata": {},
   "outputs": [],
   "source": [
    "# Set up logger\n",
    "logger = logging.getLogger(__name__)\n",
    "logger.setLevel(logging.INFO)\n",
    "\n",
    "# Create a console handler\n",
    "sh = logging.StreamHandler()\n",
    "sh.setLevel(logging.INFO)\n",
    "# Add the handler to the logger\n",
    "logger.addHandler(sh)"
   ]
  },
  {
   "cell_type": "markdown",
   "metadata": {},
   "source": [
    "Loading the `ConfigParser` for paths"
   ]
  },
  {
   "cell_type": "code",
   "execution_count": 3,
   "metadata": {},
   "outputs": [],
   "source": [
    "from src.configs.config_parser import PathConfigParser, data_config_file, project_root\n",
    "\n",
    "# Configs Directory\n",
    "parser = PathConfigParser(str(data_config_file))\n",
    "parser.load()"
   ]
  },
  {
   "cell_type": "code",
   "execution_count": 4,
   "metadata": {},
   "outputs": [],
   "source": [
    "# Data Paths\n",
    "PROCESSED_DATA_PATH = project_root / parser.get(\"data_paths\", {}).get(\"processed_data\")\n",
    "GE_PATH = parser.get(\"data_paths\", {}).get(\"brain_regions_genes_ge\")\n",
    "PROCESSED_DONORS_GE_PATH = PROCESSED_DATA_PATH / GE_PATH\n",
    "\n",
    "# Donors_ids\n",
    "DONORS_IDS = parser.get(\"donors_ids\")"
   ]
  },
  {
   "cell_type": "markdown",
   "metadata": {},
   "source": [
    "Loading the Meta Donor DataFrame"
   ]
  },
  {
   "cell_type": "code",
   "execution_count": 5,
   "metadata": {},
   "outputs": [],
   "source": [
    "meta_donor_csv_pth = PROCESSED_DONORS_GE_PATH / Path(\"meta_donor.csv\")\n",
    "meta_donor_df = load_df_from_csv(meta_donor_csv_pth)"
   ]
  },
  {
   "cell_type": "code",
   "execution_count": 6,
   "metadata": {},
   "outputs": [
    {
     "data": {
      "text/html": [
       "<div>\n",
       "<style scoped>\n",
       "    .dataframe tbody tr th:only-of-type {\n",
       "        vertical-align: middle;\n",
       "    }\n",
       "\n",
       "    .dataframe tbody tr th {\n",
       "        vertical-align: top;\n",
       "    }\n",
       "\n",
       "    .dataframe thead th {\n",
       "        text-align: right;\n",
       "    }\n",
       "</style>\n",
       "<table border=\"1\" class=\"dataframe\">\n",
       "  <thead>\n",
       "    <tr style=\"text-align: right;\">\n",
       "      <th></th>\n",
       "      <th>brain_region</th>\n",
       "      <th>gene_id</th>\n",
       "      <th>gene_expression_values</th>\n",
       "    </tr>\n",
       "  </thead>\n",
       "  <tbody>\n",
       "    <tr>\n",
       "      <th>0</th>\n",
       "      <td>4012</td>\n",
       "      <td>2</td>\n",
       "      <td>[1.58747780630413, 7.567907786636231, 1.495682...</td>\n",
       "    </tr>\n",
       "    <tr>\n",
       "      <th>1</th>\n",
       "      <td>4012</td>\n",
       "      <td>3</td>\n",
       "      <td>[5.11909080343638, 9.66921569197332, 10.081154...</td>\n",
       "    </tr>\n",
       "    <tr>\n",
       "      <th>2</th>\n",
       "      <td>4012</td>\n",
       "      <td>6</td>\n",
       "      <td>[1.83564765363665, 1.4949501777457102, 5.94151...</td>\n",
       "    </tr>\n",
       "    <tr>\n",
       "      <th>3</th>\n",
       "      <td>4012</td>\n",
       "      <td>7</td>\n",
       "      <td>[1.79544247551668, 8.01919162976325, 1.4730663...</td>\n",
       "    </tr>\n",
       "    <tr>\n",
       "      <th>4</th>\n",
       "      <td>4012</td>\n",
       "      <td>9</td>\n",
       "      <td>[2.20842768312641, 2.53387577054784, 3.1338710...</td>\n",
       "    </tr>\n",
       "  </tbody>\n",
       "</table>\n",
       "</div>"
      ],
      "text/plain": [
       "   brain_region  gene_id                             gene_expression_values\n",
       "0          4012        2  [1.58747780630413, 7.567907786636231, 1.495682...\n",
       "1          4012        3  [5.11909080343638, 9.66921569197332, 10.081154...\n",
       "2          4012        6  [1.83564765363665, 1.4949501777457102, 5.94151...\n",
       "3          4012        7  [1.79544247551668, 8.01919162976325, 1.4730663...\n",
       "4          4012        9  [2.20842768312641, 2.53387577054784, 3.1338710..."
      ]
     },
     "execution_count": 6,
     "metadata": {},
     "output_type": "execute_result"
    }
   ],
   "source": [
    "meta_donor_df.head(5)"
   ]
  },
  {
   "cell_type": "markdown",
   "metadata": {},
   "source": [
    "Converting the gene_expression_values from a stored string to a list"
   ]
  },
  {
   "cell_type": "code",
   "execution_count": 7,
   "metadata": {},
   "outputs": [
    {
     "name": "stderr",
     "output_type": "stream",
     "text": [
      "1.58747780630413\n"
     ]
    }
   ],
   "source": [
    "meta_donor_df[\"gene_expression_values\"]=meta_donor_df[\"gene_expression_values\"].apply(json.loads)\n",
    "logger.info(meta_donor_df[\"gene_expression_values\"][0][0])"
   ]
  },
  {
   "cell_type": "code",
   "execution_count": 8,
   "metadata": {},
   "outputs": [
    {
     "data": {
      "text/html": [
       "<div>\n",
       "<style scoped>\n",
       "    .dataframe tbody tr th:only-of-type {\n",
       "        vertical-align: middle;\n",
       "    }\n",
       "\n",
       "    .dataframe tbody tr th {\n",
       "        vertical-align: top;\n",
       "    }\n",
       "\n",
       "    .dataframe thead th {\n",
       "        text-align: right;\n",
       "    }\n",
       "</style>\n",
       "<table border=\"1\" class=\"dataframe\">\n",
       "  <thead>\n",
       "    <tr style=\"text-align: right;\">\n",
       "      <th></th>\n",
       "      <th>brain_region</th>\n",
       "      <th>gene_id</th>\n",
       "      <th>gene_expression_values</th>\n",
       "    </tr>\n",
       "  </thead>\n",
       "  <tbody>\n",
       "    <tr>\n",
       "      <th>0</th>\n",
       "      <td>4012</td>\n",
       "      <td>2</td>\n",
       "      <td>[1.58747780630413, 7.567907786636231, 1.495682...</td>\n",
       "    </tr>\n",
       "    <tr>\n",
       "      <th>1</th>\n",
       "      <td>4012</td>\n",
       "      <td>3</td>\n",
       "      <td>[5.11909080343638, 9.66921569197332, 10.081154...</td>\n",
       "    </tr>\n",
       "    <tr>\n",
       "      <th>2</th>\n",
       "      <td>4012</td>\n",
       "      <td>6</td>\n",
       "      <td>[1.83564765363665, 1.4949501777457102, 5.94151...</td>\n",
       "    </tr>\n",
       "    <tr>\n",
       "      <th>3</th>\n",
       "      <td>4012</td>\n",
       "      <td>7</td>\n",
       "      <td>[1.79544247551668, 8.01919162976325, 1.4730663...</td>\n",
       "    </tr>\n",
       "    <tr>\n",
       "      <th>4</th>\n",
       "      <td>4012</td>\n",
       "      <td>9</td>\n",
       "      <td>[2.20842768312641, 2.53387577054784, 3.1338710...</td>\n",
       "    </tr>\n",
       "  </tbody>\n",
       "</table>\n",
       "</div>"
      ],
      "text/plain": [
       "   brain_region  gene_id                             gene_expression_values\n",
       "0          4012        2  [1.58747780630413, 7.567907786636231, 1.495682...\n",
       "1          4012        3  [5.11909080343638, 9.66921569197332, 10.081154...\n",
       "2          4012        6  [1.83564765363665, 1.4949501777457102, 5.94151...\n",
       "3          4012        7  [1.79544247551668, 8.01919162976325, 1.4730663...\n",
       "4          4012        9  [2.20842768312641, 2.53387577054784, 3.1338710..."
      ]
     },
     "execution_count": 8,
     "metadata": {},
     "output_type": "execute_result"
    }
   ],
   "source": [
    "meta_donor_df.head(5)"
   ]
  },
  {
   "cell_type": "markdown",
   "metadata": {},
   "source": [
    "Exploring Data Scale"
   ]
  },
  {
   "cell_type": "code",
   "execution_count": 9,
   "metadata": {},
   "outputs": [
    {
     "data": {
      "text/html": [
       "<div>\n",
       "<style scoped>\n",
       "    .dataframe tbody tr th:only-of-type {\n",
       "        vertical-align: middle;\n",
       "    }\n",
       "\n",
       "    .dataframe tbody tr th {\n",
       "        vertical-align: top;\n",
       "    }\n",
       "\n",
       "    .dataframe thead th {\n",
       "        text-align: right;\n",
       "    }\n",
       "</style>\n",
       "<table border=\"1\" class=\"dataframe\">\n",
       "  <thead>\n",
       "    <tr style=\"text-align: right;\">\n",
       "      <th></th>\n",
       "      <th>brain_region</th>\n",
       "      <th>gene_id</th>\n",
       "    </tr>\n",
       "  </thead>\n",
       "  <tbody>\n",
       "    <tr>\n",
       "      <th>count</th>\n",
       "      <td>6.185948e+06</td>\n",
       "      <td>6.185948e+06</td>\n",
       "    </tr>\n",
       "    <tr>\n",
       "      <th>mean</th>\n",
       "      <td>5.518038e+03</td>\n",
       "      <td>3.435682e+05</td>\n",
       "    </tr>\n",
       "    <tr>\n",
       "      <th>std</th>\n",
       "      <td>2.175165e+03</td>\n",
       "      <td>4.467000e+05</td>\n",
       "    </tr>\n",
       "    <tr>\n",
       "      <th>min</th>\n",
       "      <td>4.012000e+03</td>\n",
       "      <td>2.000000e+00</td>\n",
       "    </tr>\n",
       "    <tr>\n",
       "      <th>25%</th>\n",
       "      <td>4.191500e+03</td>\n",
       "      <td>1.055500e+04</td>\n",
       "    </tr>\n",
       "    <tr>\n",
       "      <th>50%</th>\n",
       "      <td>4.475000e+03</td>\n",
       "      <td>7.751200e+04</td>\n",
       "    </tr>\n",
       "    <tr>\n",
       "      <th>75%</th>\n",
       "      <td>4.901500e+03</td>\n",
       "      <td>1.004858e+06</td>\n",
       "    </tr>\n",
       "    <tr>\n",
       "      <th>max</th>\n",
       "      <td>1.300800e+04</td>\n",
       "      <td>1.022429e+06</td>\n",
       "    </tr>\n",
       "  </tbody>\n",
       "</table>\n",
       "</div>"
      ],
      "text/plain": [
       "       brain_region       gene_id\n",
       "count  6.185948e+06  6.185948e+06\n",
       "mean   5.518038e+03  3.435682e+05\n",
       "std    2.175165e+03  4.467000e+05\n",
       "min    4.012000e+03  2.000000e+00\n",
       "25%    4.191500e+03  1.055500e+04\n",
       "50%    4.475000e+03  7.751200e+04\n",
       "75%    4.901500e+03  1.004858e+06\n",
       "max    1.300800e+04  1.022429e+06"
      ]
     },
     "execution_count": 9,
     "metadata": {},
     "output_type": "execute_result"
    }
   ],
   "source": [
    "meta_donor_df.describe()"
   ]
  },
  {
   "cell_type": "code",
   "execution_count": 10,
   "metadata": {},
   "outputs": [
    {
     "name": "stdout",
     "output_type": "stream",
     "text": [
      "<class 'pandas.core.frame.DataFrame'>\n",
      "RangeIndex: 6185948 entries, 0 to 6185947\n",
      "Data columns (total 3 columns):\n",
      " #   Column                  Dtype \n",
      "---  ------                  ----- \n",
      " 0   brain_region            int64 \n",
      " 1   gene_id                 int64 \n",
      " 2   gene_expression_values  object\n",
      "dtypes: int64(2), object(1)\n",
      "memory usage: 141.6+ MB\n"
     ]
    }
   ],
   "source": [
    "meta_donor_df.info()"
   ]
  },
  {
   "cell_type": "markdown",
   "metadata": {},
   "source": [
    "Using Utility functions to extract some insights about the numbers"
   ]
  },
  {
   "cell_type": "code",
   "execution_count": 11,
   "metadata": {},
   "outputs": [
    {
     "name": "stderr",
     "output_type": "stream",
     "text": [
      "Number of Total Samples: 155883296\n",
      "Number of Total Brain Regions: 212\n",
      "Number of Genes ids per Brain Region: \n",
      "brain_region\n",
      "4012     29179\n",
      "4013     29179\n",
      "4014     29179\n",
      "4015     29179\n",
      "4022     29179\n",
      "         ...  \n",
      "10145    29179\n",
      "10148    29179\n",
      "10151    29179\n",
      "13005    29179\n",
      "13008    29179\n",
      "Name: gene_id, Length: 212, dtype: int64\n",
      "Number of Samples per Brain Region:\n",
      "[645601, 1115129, 1056438, 821674, 58691, 2523713, 2347640, 1936803, 1760730, 880365, 469528, 1056438, 1173820, 1232511, 293455, 293455, 880365, 352146, 410837, 117382, 821674, 704292, 762983, 1056438, 1232511, 762983, 586910, 1115129, 1349893, 939056, 997747, 997747, 1056438, 1173820, 1291202, 58691, 117382, 1584657, 1643348, 2112876, 2406331, 1936803, 1408584, 1760730, 1173820, 1056438, 1115129, 645601, 469528, 528219, 1056438, 1115129, 939056, 1702039, 1467275, 997747, 821674, 762983, 880365, 762983, 645601, 1819421, 2054185, 1056438, 997747, 293455, 352146, 1525966, 1173820, 1467275, 1408584, 1115129, 1232511, 1173820, 1232511, 997747, 939056, 1291202, 880365, 1467275, 2817168, 762983, 880365, 645601, 586910, 293455, 528219, 293455, 234764, 293455, 1936803, 410837, 586910, 528219, 469528, 528219, 645601, 1115129, 1056438, 762983, 1173820, 352146, 880365, 410837, 762983, 528219, 880365, 586910, 645601, 58691, 117382, 293455, 352146, 410837, 352146, 234764, 176073, 117382, 352146, 293455, 176073, 293455, 234764, 234764, 58691, 352146, 234764, 410837, 410837, 528219, 645601, 645601, 645601, 528219, 645601, 528219, 469528, 528219, 117382, 234764, 469528, 586910, 880365, 1115129, 997747, 880365, 762983, 410837, 234764, 293455, 762983, 117382, 176073, 176073, 176073, 234764, 58691, 410837, 528219, 469528, 352146, 352146, 58691, 58691, 58691, 1056438, 117382, 117382, 410837, 352146, 176073, 117382, 645601, 176073, 762983, 1232511, 939056, 410837, 352146, 410837, 645601, 410837, 528219, 528219, 469528, 293455, 939056, 704292, 469528, 352146, 58691, 117382, 293455, 2054185, 1056438, 410837, 939056, 586910, 176073, 528219, 1232511, 528219, 1115129, 762983, 2054185, 1056438, 176073, 293455, 176073, 234764, 352146, 234764]\n",
      "Number of Samples per Brain Region-Gene Id pair:\n",
      "         brain_region  gene_id  sample_count\n",
      "0                4012        2            22\n",
      "1                4012        3            44\n",
      "2                4012        6            77\n",
      "3                4012        7            22\n",
      "4                4012        9            44\n",
      "...               ...      ...           ...\n",
      "6185943         13008  1021983             4\n",
      "6185944         13008  1021987             4\n",
      "6185945         13008  1022208             4\n",
      "6185946         13008  1022393             8\n",
      "6185947         13008  1022429             4\n",
      "\n",
      "[6185948 rows x 3 columns]\n",
      "List of Brain Regions:\n",
      "[4012, 4013, 4014, 4015, 4022, 4023, 4024, 4030, 4031, 4039, 4042, 4045, 4048, 4051, 4054, 4057, 4060, 4063, 4069, 4072, 4073, 4074, 4079, 4087, 4088, 4089, 4090, 4098, 4099, 4106, 4107, 4113, 4114, 4120, 4121, 4127, 4128, 4135, 4136, 4142, 4143, 4149, 4150, 4151, 4158, 4159, 4160, 4166, 4169, 4172, 4178, 4186, 4187, 4193, 4194, 4200, 4201, 4207, 4208, 4214, 4215, 4223, 4224, 4230, 4231, 4237, 4238, 4244, 4245, 4251, 4254, 4255, 4256, 4257, 4258, 4270, 4273, 4280, 4281, 4282, 4288, 4291, 4295, 4296, 4301, 4307, 4308, 4310, 4311, 4313, 4322, 4329, 4342, 4351, 4360, 4367, 4379, 4395, 4400, 4409, 4417, 4428, 4432, 4437, 4440, 4444, 4506, 4507, 4518, 4523, 4524, 4534, 4542, 4573, 4593, 4596, 4597, 4598, 4637, 4641, 4644, 4648, 4667, 4669, 4671, 4672, 4675, 4679, 4718, 4719, 4720, 4722, 4723, 4724, 4725, 4726, 4727, 4728, 4730, 4734, 4735, 4736, 4738, 4739, 4740, 4741, 4742, 4743, 4744, 4746, 4782, 4783, 4784, 4785, 4890, 4891, 4892, 4898, 4901, 4903, 4904, 4905, 4909, 4910, 4911, 9004, 9016, 9019, 9020, 9022, 9031, 9048, 9054, 9064, 9067, 9074, 9075, 9103, 9115, 9137, 9143, 9146, 9149, 9152, 9155, 9158, 9161, 9178, 9206, 9207, 9241, 9450, 9456, 9492, 9520, 9529, 9543, 9546, 9555, 9558, 9561, 9589, 9598, 9614, 9677, 9698, 10143, 10145, 10148, 10151, 13005, 13008]\n",
      "Sample of Brain Region-Gene Id pair\n",
      "[1.58747780630413, 7.567907786636231, 1.4956823237570005, 7.438312005810641, 2.75942767154679, 7.064260510190611, 1.34323142513322, 6.83595053601423, 2.81389736964695, 6.65716243622712, 1.7185364965019, 7.51100617936911, 1.49153120013251, 7.21298720987626, 0.8784972352703662, 7.19987287896783, 4.24212034290208, 7.528502734783731, 1.56286110341597, 6.76501527494989, 0.967433796691202, 6.388464175790361]\n"
     ]
    }
   ],
   "source": [
    "# Data Scale\n",
    "total_number_of_samples = get_total_number_of_samples(meta_donor_df)\n",
    "logger.info(f\"Number of Total Samples: {total_number_of_samples}\")\n",
    "\n",
    "number_of_br = get_total_number_of_br(meta_donor_df)\n",
    "logger.info(f\"Number of Total Brain Regions: {number_of_br}\")\n",
    "\n",
    "number_of_ge_per_br = get_number_of_genes_per_br(meta_donor_df)\n",
    "logger.info(f\"Number of Genes ids per Brain Region: \\n{number_of_ge_per_br}\")\n",
    "\n",
    "number_of_samples_per_br = get_number_of_samples_per_br(meta_donor_df)\n",
    "logger.info(f\"Number of Samples per Brain Region:\\n{number_of_samples_per_br}\")\n",
    "\n",
    "number_of_samples_per_br_ge = get_number_of_samples_per_br_ge(meta_donor_df)\n",
    "logger.info(f\"Number of Samples per Brain Region-Gene Id pair:\\n{number_of_samples_per_br_ge}\")\n",
    "\n",
    "br_ids = get_br_list(meta_donor_df)\n",
    "logger.info(f\"List of Brain Regions:\\n{br_ids}\")\n",
    "\n",
    "sample = get_br_ge_sample(meta_donor_df, 4012, 2)\n",
    "logger.info(f\"Sample of Brain Region-Gene Id pair\\n{sample}\")\n"
   ]
  },
  {
   "cell_type": "code",
   "execution_count": 12,
   "metadata": {},
   "outputs": [
    {
     "data": {
      "text/plain": [
       "155883296"
      ]
     },
     "execution_count": 12,
     "metadata": {},
     "output_type": "execute_result"
    }
   ],
   "source": [
    "sum(number_of_samples_per_br)"
   ]
  },
  {
   "cell_type": "markdown",
   "metadata": {},
   "source": [
    "Sanity checks"
   ]
  },
  {
   "cell_type": "code",
   "execution_count": 13,
   "metadata": {},
   "outputs": [
    {
     "name": "stderr",
     "output_type": "stream",
     "text": [
      "Number of Samples / list of Brain regions = Average plotted on graph 735298.5660377359\n",
      "Total Number of Samples = Sum of Samples per BR True\n",
      "Unique Gene Ids are in Every brain RegionTrue\n"
     ]
    }
   ],
   "source": [
    "logger.info(f\"Number of Samples / list of Brain regions = Average plotted on graph {total_number_of_samples/len(br_ids)}\")\n",
    "\n",
    "logger.info(f\"Total Number of Samples = Sum of Samples per BR {total_number_of_samples == sum(number_of_samples_per_br)}\")\n",
    "\n",
    "# logger.info(f\"Total Number of Samples = Sum of Samples per BR and Gene ID{total_number_of_samples == sum(number_of_samples_per_br_ge[\"sample_count\"].tolist())}\")\n",
    "\n",
    "ge_ids = get_ge_list(meta_donor_df)\n",
    "logger.info(f\"Unique Gene Ids are in Every brain Region{len(ge_ids)*len(br_ids) == len(number_of_samples_per_br_ge)}\")"
   ]
  },
  {
   "cell_type": "code",
   "execution_count": 20,
   "metadata": {},
   "outputs": [
    {
     "data": {
      "text/plain": [
       "13008"
      ]
     },
     "execution_count": 20,
     "metadata": {},
     "output_type": "execute_result"
    }
   ],
   "source": [
    "df = number_of_samples_per_br_ge.copy()\n",
    "df['brain_region'].max()"
   ]
  },
  {
   "cell_type": "markdown",
   "metadata": {},
   "source": []
  },
  {
   "cell_type": "code",
   "execution_count": 21,
   "metadata": {},
   "outputs": [
    {
     "data": {
      "text/html": [
       "<div>\n",
       "<style scoped>\n",
       "    .dataframe tbody tr th:only-of-type {\n",
       "        vertical-align: middle;\n",
       "    }\n",
       "\n",
       "    .dataframe tbody tr th {\n",
       "        vertical-align: top;\n",
       "    }\n",
       "\n",
       "    .dataframe thead th {\n",
       "        text-align: right;\n",
       "    }\n",
       "</style>\n",
       "<table border=\"1\" class=\"dataframe\">\n",
       "  <thead>\n",
       "    <tr style=\"text-align: right;\">\n",
       "      <th></th>\n",
       "      <th>brain_region</th>\n",
       "      <th>gene_id</th>\n",
       "      <th>sample_count</th>\n",
       "      <th>gene_region</th>\n",
       "    </tr>\n",
       "  </thead>\n",
       "  <tbody>\n",
       "    <tr>\n",
       "      <th>0</th>\n",
       "      <td>4012</td>\n",
       "      <td>2</td>\n",
       "      <td>22</td>\n",
       "      <td>2.401200e+00</td>\n",
       "    </tr>\n",
       "    <tr>\n",
       "      <th>1</th>\n",
       "      <td>4012</td>\n",
       "      <td>3</td>\n",
       "      <td>44</td>\n",
       "      <td>3.401200e+00</td>\n",
       "    </tr>\n",
       "    <tr>\n",
       "      <th>2</th>\n",
       "      <td>4012</td>\n",
       "      <td>6</td>\n",
       "      <td>77</td>\n",
       "      <td>6.401200e+00</td>\n",
       "    </tr>\n",
       "    <tr>\n",
       "      <th>3</th>\n",
       "      <td>4012</td>\n",
       "      <td>7</td>\n",
       "      <td>22</td>\n",
       "      <td>7.401200e+00</td>\n",
       "    </tr>\n",
       "    <tr>\n",
       "      <th>4</th>\n",
       "      <td>4012</td>\n",
       "      <td>9</td>\n",
       "      <td>44</td>\n",
       "      <td>9.401200e+00</td>\n",
       "    </tr>\n",
       "    <tr>\n",
       "      <th>...</th>\n",
       "      <td>...</td>\n",
       "      <td>...</td>\n",
       "      <td>...</td>\n",
       "      <td>...</td>\n",
       "    </tr>\n",
       "    <tr>\n",
       "      <th>6185943</th>\n",
       "      <td>13008</td>\n",
       "      <td>1021983</td>\n",
       "      <td>4</td>\n",
       "      <td>1.021983e+06</td>\n",
       "    </tr>\n",
       "    <tr>\n",
       "      <th>6185944</th>\n",
       "      <td>13008</td>\n",
       "      <td>1021987</td>\n",
       "      <td>4</td>\n",
       "      <td>1.021987e+06</td>\n",
       "    </tr>\n",
       "    <tr>\n",
       "      <th>6185945</th>\n",
       "      <td>13008</td>\n",
       "      <td>1022208</td>\n",
       "      <td>4</td>\n",
       "      <td>1.022208e+06</td>\n",
       "    </tr>\n",
       "    <tr>\n",
       "      <th>6185946</th>\n",
       "      <td>13008</td>\n",
       "      <td>1022393</td>\n",
       "      <td>8</td>\n",
       "      <td>1.022393e+06</td>\n",
       "    </tr>\n",
       "    <tr>\n",
       "      <th>6185947</th>\n",
       "      <td>13008</td>\n",
       "      <td>1022429</td>\n",
       "      <td>4</td>\n",
       "      <td>1.022429e+06</td>\n",
       "    </tr>\n",
       "  </tbody>\n",
       "</table>\n",
       "<p>6185948 rows × 4 columns</p>\n",
       "</div>"
      ],
      "text/plain": [
       "         brain_region  gene_id  sample_count   gene_region\n",
       "0                4012        2            22  2.401200e+00\n",
       "1                4012        3            44  3.401200e+00\n",
       "2                4012        6            77  6.401200e+00\n",
       "3                4012        7            22  7.401200e+00\n",
       "4                4012        9            44  9.401200e+00\n",
       "...               ...      ...           ...           ...\n",
       "6185943         13008  1021983             4  1.021983e+06\n",
       "6185944         13008  1021987             4  1.021987e+06\n",
       "6185945         13008  1022208             4  1.022208e+06\n",
       "6185946         13008  1022393             8  1.022393e+06\n",
       "6185947         13008  1022429             4  1.022429e+06\n",
       "\n",
       "[6185948 rows x 4 columns]"
      ]
     },
     "execution_count": 21,
     "metadata": {},
     "output_type": "execute_result"
    }
   ],
   "source": [
    "# Combine 'gene_id' and 'brain_region' into a single column for the x-axis\n",
    "# df['gene.region'] = (df['gene_id'].astype(str) + '.' + df['brain_region'].astype(str))\n",
    "df['gene_region'] = df['gene_id'] + df['brain_region'] / 10**(df['brain_region'].astype(str).str.len())\n",
    "df['gene_region'] = df['gene_region'].round(5)\n",
    "\n",
    "df"
   ]
  },
  {
   "cell_type": "code",
   "execution_count": 22,
   "metadata": {},
   "outputs": [
    {
     "data": {
      "text/plain": [
       "1022429.13008"
      ]
     },
     "execution_count": 22,
     "metadata": {},
     "output_type": "execute_result"
    }
   ],
   "source": [
    "df['gene_region'][len(df)-1]"
   ]
  },
  {
   "cell_type": "code",
   "execution_count": 23,
   "metadata": {},
   "outputs": [
    {
     "name": "stdout",
     "output_type": "stream",
     "text": [
      "0    2.4012\n",
      "1    3.4012\n",
      "2    6.4012\n",
      "3    7.4012\n",
      "4    9.4012\n",
      "Name: gene_region, dtype: float64\n",
      "0    22\n",
      "1    44\n",
      "2    77\n",
      "3    22\n",
      "4    44\n",
      "Name: sample_count, dtype: int64\n"
     ]
    }
   ],
   "source": [
    "print(df['gene_region'].head())  # Check the structure of the gene.region column\n",
    "print(df['sample_count'].head()) "
   ]
  },
  {
   "cell_type": "code",
   "execution_count": 21,
   "metadata": {},
   "outputs": [
    {
     "data": {
      "text/plain": [
       "6185948"
      ]
     },
     "execution_count": 21,
     "metadata": {},
     "output_type": "execute_result"
    }
   ],
   "source": [
    "len(number_of_samples_per_br_ge)"
   ]
  },
  {
   "cell_type": "code",
   "execution_count": 28,
   "metadata": {},
   "outputs": [],
   "source": [
    "def get_ge_list(df:pd.DataFrame) -> List[int]:\n",
    "    \"\"\"\n",
    "        Get a list of Gene Ids available.\n",
    "    \"\"\"\n",
    "    return df[\"gene_id\"].unique().tolist()"
   ]
  },
  {
   "cell_type": "code",
   "execution_count": 15,
   "metadata": {},
   "outputs": [],
   "source": [
    "import matplotlib\n",
    "matplotlib.use('Agg')"
   ]
  },
  {
   "cell_type": "code",
   "execution_count": 17,
   "metadata": {},
   "outputs": [
    {
     "ename": "",
     "evalue": "",
     "output_type": "error",
     "traceback": [
      "\u001b[1;31mThe Kernel crashed while executing code in the current cell or a previous cell. \n",
      "\u001b[1;31mPlease review the code in the cell(s) to identify a possible cause of the failure. \n",
      "\u001b[1;31mClick <a href='https://aka.ms/vscodeJupyterKernelCrash'>here</a> for more info. \n",
      "\u001b[1;31mView Jupyter <a href='command:jupyter.viewOutput'>log</a> for further details."
     ]
    },
    {
     "ename": "KeyboardInterrupt",
     "evalue": "",
     "output_type": "error",
     "traceback": [
      "\u001b[0;31m---------------------------------------------------------------------------\u001b[0m",
      "\u001b[0;31mKeyboardInterrupt\u001b[0m                         Traceback (most recent call last)",
      "Cell \u001b[0;32mIn[41], line 4\u001b[0m\n\u001b[1;32m      1\u001b[0m \u001b[38;5;28;01mimport\u001b[39;00m\u001b[38;5;250m \u001b[39m\u001b[38;5;21;01mmatplotlib\u001b[39;00m\u001b[38;5;21;01m.\u001b[39;00m\u001b[38;5;21;01mpyplot\u001b[39;00m\u001b[38;5;250m \u001b[39m\u001b[38;5;28;01mas\u001b[39;00m\u001b[38;5;250m \u001b[39m\u001b[38;5;21;01mplt\u001b[39;00m\n\u001b[1;32m      2\u001b[0m plt\u001b[38;5;241m.\u001b[39mfigure(figsize\u001b[38;5;241m=\u001b[39m(\u001b[38;5;241m8\u001b[39m, \u001b[38;5;241m8\u001b[39m))\n\u001b[0;32m----> 4\u001b[0m x \u001b[38;5;241m=\u001b[39m \u001b[43mdf\u001b[49m\u001b[43m[\u001b[49m\u001b[38;5;124;43m'\u001b[39;49m\u001b[38;5;124;43mgene_region\u001b[39;49m\u001b[38;5;124;43m'\u001b[39;49m\u001b[43m]\u001b[49m\u001b[38;5;241;43m.\u001b[39;49m\u001b[43mastype\u001b[49m\u001b[43m(\u001b[49m\u001b[38;5;28;43mstr\u001b[39;49m\u001b[43m)\u001b[49m\n\u001b[1;32m      5\u001b[0m y \u001b[38;5;241m=\u001b[39m df[\u001b[38;5;124m'\u001b[39m\u001b[38;5;124msample_count\u001b[39m\u001b[38;5;124m'\u001b[39m]\n\u001b[1;32m      6\u001b[0m plt\u001b[38;5;241m.\u001b[39mxlabel(\u001b[38;5;124m\"\u001b[39m\u001b[38;5;124mGeneId.BrainRegion\u001b[39m\u001b[38;5;124m\"\u001b[39m)\n",
      "File \u001b[0;32m~/.cache/pypoetry/virtualenvs/src-45NefiVU-py3.8/lib/python3.8/site-packages/pandas/core/generic.py:6324\u001b[0m, in \u001b[0;36mNDFrame.astype\u001b[0;34m(self, dtype, copy, errors)\u001b[0m\n\u001b[1;32m   6317\u001b[0m     results \u001b[38;5;241m=\u001b[39m [\n\u001b[1;32m   6318\u001b[0m         \u001b[38;5;28mself\u001b[39m\u001b[38;5;241m.\u001b[39miloc[:, i]\u001b[38;5;241m.\u001b[39mastype(dtype, copy\u001b[38;5;241m=\u001b[39mcopy)\n\u001b[1;32m   6319\u001b[0m         \u001b[38;5;28;01mfor\u001b[39;00m i \u001b[38;5;129;01min\u001b[39;00m \u001b[38;5;28mrange\u001b[39m(\u001b[38;5;28mlen\u001b[39m(\u001b[38;5;28mself\u001b[39m\u001b[38;5;241m.\u001b[39mcolumns))\n\u001b[1;32m   6320\u001b[0m     ]\n\u001b[1;32m   6322\u001b[0m \u001b[38;5;28;01melse\u001b[39;00m:\n\u001b[1;32m   6323\u001b[0m     \u001b[38;5;66;03m# else, only a single dtype is given\u001b[39;00m\n\u001b[0;32m-> 6324\u001b[0m     new_data \u001b[38;5;241m=\u001b[39m \u001b[38;5;28;43mself\u001b[39;49m\u001b[38;5;241;43m.\u001b[39;49m\u001b[43m_mgr\u001b[49m\u001b[38;5;241;43m.\u001b[39;49m\u001b[43mastype\u001b[49m\u001b[43m(\u001b[49m\u001b[43mdtype\u001b[49m\u001b[38;5;241;43m=\u001b[39;49m\u001b[43mdtype\u001b[49m\u001b[43m,\u001b[49m\u001b[43m \u001b[49m\u001b[43mcopy\u001b[49m\u001b[38;5;241;43m=\u001b[39;49m\u001b[43mcopy\u001b[49m\u001b[43m,\u001b[49m\u001b[43m \u001b[49m\u001b[43merrors\u001b[49m\u001b[38;5;241;43m=\u001b[39;49m\u001b[43merrors\u001b[49m\u001b[43m)\u001b[49m\n\u001b[1;32m   6325\u001b[0m     \u001b[38;5;28;01mreturn\u001b[39;00m \u001b[38;5;28mself\u001b[39m\u001b[38;5;241m.\u001b[39m_constructor(new_data)\u001b[38;5;241m.\u001b[39m__finalize__(\u001b[38;5;28mself\u001b[39m, method\u001b[38;5;241m=\u001b[39m\u001b[38;5;124m\"\u001b[39m\u001b[38;5;124mastype\u001b[39m\u001b[38;5;124m\"\u001b[39m)\n\u001b[1;32m   6327\u001b[0m \u001b[38;5;66;03m# GH 33113: handle empty frame or series\u001b[39;00m\n",
      "File \u001b[0;32m~/.cache/pypoetry/virtualenvs/src-45NefiVU-py3.8/lib/python3.8/site-packages/pandas/core/internals/managers.py:451\u001b[0m, in \u001b[0;36mBaseBlockManager.astype\u001b[0;34m(self, dtype, copy, errors)\u001b[0m\n\u001b[1;32m    448\u001b[0m \u001b[38;5;28;01melif\u001b[39;00m using_copy_on_write():\n\u001b[1;32m    449\u001b[0m     copy \u001b[38;5;241m=\u001b[39m \u001b[38;5;28;01mFalse\u001b[39;00m\n\u001b[0;32m--> 451\u001b[0m \u001b[38;5;28;01mreturn\u001b[39;00m \u001b[38;5;28;43mself\u001b[39;49m\u001b[38;5;241;43m.\u001b[39;49m\u001b[43mapply\u001b[49m\u001b[43m(\u001b[49m\n\u001b[1;32m    452\u001b[0m \u001b[43m    \u001b[49m\u001b[38;5;124;43m\"\u001b[39;49m\u001b[38;5;124;43mastype\u001b[39;49m\u001b[38;5;124;43m\"\u001b[39;49m\u001b[43m,\u001b[49m\n\u001b[1;32m    453\u001b[0m \u001b[43m    \u001b[49m\u001b[43mdtype\u001b[49m\u001b[38;5;241;43m=\u001b[39;49m\u001b[43mdtype\u001b[49m\u001b[43m,\u001b[49m\n\u001b[1;32m    454\u001b[0m \u001b[43m    \u001b[49m\u001b[43mcopy\u001b[49m\u001b[38;5;241;43m=\u001b[39;49m\u001b[43mcopy\u001b[49m\u001b[43m,\u001b[49m\n\u001b[1;32m    455\u001b[0m \u001b[43m    \u001b[49m\u001b[43merrors\u001b[49m\u001b[38;5;241;43m=\u001b[39;49m\u001b[43merrors\u001b[49m\u001b[43m,\u001b[49m\n\u001b[1;32m    456\u001b[0m \u001b[43m    \u001b[49m\u001b[43musing_cow\u001b[49m\u001b[38;5;241;43m=\u001b[39;49m\u001b[43musing_copy_on_write\u001b[49m\u001b[43m(\u001b[49m\u001b[43m)\u001b[49m\u001b[43m,\u001b[49m\n\u001b[1;32m    457\u001b[0m \u001b[43m\u001b[49m\u001b[43m)\u001b[49m\n",
      "File \u001b[0;32m~/.cache/pypoetry/virtualenvs/src-45NefiVU-py3.8/lib/python3.8/site-packages/pandas/core/internals/managers.py:352\u001b[0m, in \u001b[0;36mBaseBlockManager.apply\u001b[0;34m(self, f, align_keys, **kwargs)\u001b[0m\n\u001b[1;32m    350\u001b[0m         applied \u001b[38;5;241m=\u001b[39m b\u001b[38;5;241m.\u001b[39mapply(f, \u001b[38;5;241m*\u001b[39m\u001b[38;5;241m*\u001b[39mkwargs)\n\u001b[1;32m    351\u001b[0m     \u001b[38;5;28;01melse\u001b[39;00m:\n\u001b[0;32m--> 352\u001b[0m         applied \u001b[38;5;241m=\u001b[39m \u001b[38;5;28;43mgetattr\u001b[39;49m\u001b[43m(\u001b[49m\u001b[43mb\u001b[49m\u001b[43m,\u001b[49m\u001b[43m \u001b[49m\u001b[43mf\u001b[49m\u001b[43m)\u001b[49m\u001b[43m(\u001b[49m\u001b[38;5;241;43m*\u001b[39;49m\u001b[38;5;241;43m*\u001b[39;49m\u001b[43mkwargs\u001b[49m\u001b[43m)\u001b[49m\n\u001b[1;32m    353\u001b[0m     result_blocks \u001b[38;5;241m=\u001b[39m extend_blocks(applied, result_blocks)\n\u001b[1;32m    355\u001b[0m out \u001b[38;5;241m=\u001b[39m \u001b[38;5;28mtype\u001b[39m(\u001b[38;5;28mself\u001b[39m)\u001b[38;5;241m.\u001b[39mfrom_blocks(result_blocks, \u001b[38;5;28mself\u001b[39m\u001b[38;5;241m.\u001b[39maxes)\n",
      "File \u001b[0;32m~/.cache/pypoetry/virtualenvs/src-45NefiVU-py3.8/lib/python3.8/site-packages/pandas/core/internals/blocks.py:511\u001b[0m, in \u001b[0;36mBlock.astype\u001b[0;34m(self, dtype, copy, errors, using_cow)\u001b[0m\n\u001b[1;32m    491\u001b[0m \u001b[38;5;250m\u001b[39m\u001b[38;5;124;03m\"\"\"\u001b[39;00m\n\u001b[1;32m    492\u001b[0m \u001b[38;5;124;03mCoerce to the new dtype.\u001b[39;00m\n\u001b[1;32m    493\u001b[0m \n\u001b[0;32m   (...)\u001b[0m\n\u001b[1;32m    507\u001b[0m \u001b[38;5;124;03mBlock\u001b[39;00m\n\u001b[1;32m    508\u001b[0m \u001b[38;5;124;03m\"\"\"\u001b[39;00m\n\u001b[1;32m    509\u001b[0m values \u001b[38;5;241m=\u001b[39m \u001b[38;5;28mself\u001b[39m\u001b[38;5;241m.\u001b[39mvalues\n\u001b[0;32m--> 511\u001b[0m new_values \u001b[38;5;241m=\u001b[39m \u001b[43mastype_array_safe\u001b[49m\u001b[43m(\u001b[49m\u001b[43mvalues\u001b[49m\u001b[43m,\u001b[49m\u001b[43m \u001b[49m\u001b[43mdtype\u001b[49m\u001b[43m,\u001b[49m\u001b[43m \u001b[49m\u001b[43mcopy\u001b[49m\u001b[38;5;241;43m=\u001b[39;49m\u001b[43mcopy\u001b[49m\u001b[43m,\u001b[49m\u001b[43m \u001b[49m\u001b[43merrors\u001b[49m\u001b[38;5;241;43m=\u001b[39;49m\u001b[43merrors\u001b[49m\u001b[43m)\u001b[49m\n\u001b[1;32m    513\u001b[0m new_values \u001b[38;5;241m=\u001b[39m maybe_coerce_values(new_values)\n\u001b[1;32m    515\u001b[0m refs \u001b[38;5;241m=\u001b[39m \u001b[38;5;28;01mNone\u001b[39;00m\n",
      "File \u001b[0;32m~/.cache/pypoetry/virtualenvs/src-45NefiVU-py3.8/lib/python3.8/site-packages/pandas/core/dtypes/astype.py:242\u001b[0m, in \u001b[0;36mastype_array_safe\u001b[0;34m(values, dtype, copy, errors)\u001b[0m\n\u001b[1;32m    239\u001b[0m     dtype \u001b[38;5;241m=\u001b[39m dtype\u001b[38;5;241m.\u001b[39mnumpy_dtype\n\u001b[1;32m    241\u001b[0m \u001b[38;5;28;01mtry\u001b[39;00m:\n\u001b[0;32m--> 242\u001b[0m     new_values \u001b[38;5;241m=\u001b[39m \u001b[43mastype_array\u001b[49m\u001b[43m(\u001b[49m\u001b[43mvalues\u001b[49m\u001b[43m,\u001b[49m\u001b[43m \u001b[49m\u001b[43mdtype\u001b[49m\u001b[43m,\u001b[49m\u001b[43m \u001b[49m\u001b[43mcopy\u001b[49m\u001b[38;5;241;43m=\u001b[39;49m\u001b[43mcopy\u001b[49m\u001b[43m)\u001b[49m\n\u001b[1;32m    243\u001b[0m \u001b[38;5;28;01mexcept\u001b[39;00m (\u001b[38;5;167;01mValueError\u001b[39;00m, \u001b[38;5;167;01mTypeError\u001b[39;00m):\n\u001b[1;32m    244\u001b[0m     \u001b[38;5;66;03m# e.g. _astype_nansafe can fail on object-dtype of strings\u001b[39;00m\n\u001b[1;32m    245\u001b[0m     \u001b[38;5;66;03m#  trying to convert to float\u001b[39;00m\n\u001b[1;32m    246\u001b[0m     \u001b[38;5;28;01mif\u001b[39;00m errors \u001b[38;5;241m==\u001b[39m \u001b[38;5;124m\"\u001b[39m\u001b[38;5;124mignore\u001b[39m\u001b[38;5;124m\"\u001b[39m:\n",
      "File \u001b[0;32m~/.cache/pypoetry/virtualenvs/src-45NefiVU-py3.8/lib/python3.8/site-packages/pandas/core/dtypes/astype.py:187\u001b[0m, in \u001b[0;36mastype_array\u001b[0;34m(values, dtype, copy)\u001b[0m\n\u001b[1;32m    184\u001b[0m     values \u001b[38;5;241m=\u001b[39m values\u001b[38;5;241m.\u001b[39mastype(dtype, copy\u001b[38;5;241m=\u001b[39mcopy)\n\u001b[1;32m    186\u001b[0m \u001b[38;5;28;01melse\u001b[39;00m:\n\u001b[0;32m--> 187\u001b[0m     values \u001b[38;5;241m=\u001b[39m \u001b[43m_astype_nansafe\u001b[49m\u001b[43m(\u001b[49m\u001b[43mvalues\u001b[49m\u001b[43m,\u001b[49m\u001b[43m \u001b[49m\u001b[43mdtype\u001b[49m\u001b[43m,\u001b[49m\u001b[43m \u001b[49m\u001b[43mcopy\u001b[49m\u001b[38;5;241;43m=\u001b[39;49m\u001b[43mcopy\u001b[49m\u001b[43m)\u001b[49m\n\u001b[1;32m    189\u001b[0m \u001b[38;5;66;03m# in pandas we don't store numpy str dtypes, so convert to object\u001b[39;00m\n\u001b[1;32m    190\u001b[0m \u001b[38;5;28;01mif\u001b[39;00m \u001b[38;5;28misinstance\u001b[39m(dtype, np\u001b[38;5;241m.\u001b[39mdtype) \u001b[38;5;129;01mand\u001b[39;00m \u001b[38;5;28missubclass\u001b[39m(values\u001b[38;5;241m.\u001b[39mdtype\u001b[38;5;241m.\u001b[39mtype, \u001b[38;5;28mstr\u001b[39m):\n",
      "File \u001b[0;32m~/.cache/pypoetry/virtualenvs/src-45NefiVU-py3.8/lib/python3.8/site-packages/pandas/core/dtypes/astype.py:100\u001b[0m, in \u001b[0;36m_astype_nansafe\u001b[0;34m(arr, dtype, copy, skipna)\u001b[0m\n\u001b[1;32m     98\u001b[0m     \u001b[38;5;28;01mif\u001b[39;00m arr\u001b[38;5;241m.\u001b[39mndim \u001b[38;5;241m>\u001b[39m \u001b[38;5;241m1\u001b[39m:\n\u001b[1;32m     99\u001b[0m         arr \u001b[38;5;241m=\u001b[39m arr\u001b[38;5;241m.\u001b[39mravel()\n\u001b[0;32m--> 100\u001b[0m     \u001b[38;5;28;01mreturn\u001b[39;00m \u001b[43mlib\u001b[49m\u001b[38;5;241;43m.\u001b[39;49m\u001b[43mensure_string_array\u001b[49m\u001b[43m(\u001b[49m\n\u001b[1;32m    101\u001b[0m \u001b[43m        \u001b[49m\u001b[43marr\u001b[49m\u001b[43m,\u001b[49m\u001b[43m \u001b[49m\u001b[43mskipna\u001b[49m\u001b[38;5;241;43m=\u001b[39;49m\u001b[43mskipna\u001b[49m\u001b[43m,\u001b[49m\u001b[43m \u001b[49m\u001b[43mconvert_na_value\u001b[49m\u001b[38;5;241;43m=\u001b[39;49m\u001b[38;5;28;43;01mFalse\u001b[39;49;00m\n\u001b[1;32m    102\u001b[0m \u001b[43m    \u001b[49m\u001b[43m)\u001b[49m\u001b[38;5;241m.\u001b[39mreshape(shape)\n\u001b[1;32m    104\u001b[0m \u001b[38;5;28;01melif\u001b[39;00m np\u001b[38;5;241m.\u001b[39missubdtype(arr\u001b[38;5;241m.\u001b[39mdtype, np\u001b[38;5;241m.\u001b[39mfloating) \u001b[38;5;129;01mand\u001b[39;00m is_integer_dtype(dtype):\n\u001b[1;32m    105\u001b[0m     \u001b[38;5;28;01mreturn\u001b[39;00m _astype_float_to_int_nansafe(arr, dtype, copy)\n",
      "File \u001b[0;32m~/.cache/pypoetry/virtualenvs/src-45NefiVU-py3.8/lib/python3.8/site-packages/pandas/_libs/lib.pyx:712\u001b[0m, in \u001b[0;36mpandas._libs.lib.ensure_string_array\u001b[0;34m()\u001b[0m\n",
      "File \u001b[0;32m~/.cache/pypoetry/virtualenvs/src-45NefiVU-py3.8/lib/python3.8/site-packages/pandas/_libs/lib.pyx:787\u001b[0m, in \u001b[0;36mpandas._libs.lib.ensure_string_array\u001b[0;34m()\u001b[0m\n",
      "\u001b[0;31mKeyboardInterrupt\u001b[0m: "
     ]
    },
    {
     "data": {
      "text/plain": [
       "<Figure size 800x800 with 0 Axes>"
      ]
     },
     "metadata": {},
     "output_type": "display_data"
    }
   ],
   "source": [
    "import matplotlib.pyplot as plt\n",
    "plt.figure(figsize=(8, 8))\n",
    "    \n",
    "x = df['gene_region'].astype(str)\n",
    "y = df['sample_count']\n",
    "plt.xlabel(\"GeneId.BrainRegion\")\n",
    "plt.ylabel(\"Number of Samples\")\n",
    "plt.title(\"GeneId.BrainRegion Number of Samples\")\n",
    "plt.scatter(x, y)\n",
    "plt.savefig(PLOTS_PTH / Path(\"yabdany.png\"), dpi=300, bbox_inches='tight')\n"
   ]
  },
  {
   "cell_type": "code",
   "execution_count": 28,
   "metadata": {},
   "outputs": [
    {
     "data": {
      "text/html": [
       "<div>\n",
       "<style scoped>\n",
       "    .dataframe tbody tr th:only-of-type {\n",
       "        vertical-align: middle;\n",
       "    }\n",
       "\n",
       "    .dataframe tbody tr th {\n",
       "        vertical-align: top;\n",
       "    }\n",
       "\n",
       "    .dataframe thead th {\n",
       "        text-align: right;\n",
       "    }\n",
       "</style>\n",
       "<table border=\"1\" class=\"dataframe\">\n",
       "  <thead>\n",
       "    <tr style=\"text-align: right;\">\n",
       "      <th></th>\n",
       "      <th>brain_region</th>\n",
       "      <th>gene_id</th>\n",
       "      <th>sample_count</th>\n",
       "      <th>gene_region</th>\n",
       "    </tr>\n",
       "  </thead>\n",
       "  <tbody>\n",
       "    <tr>\n",
       "      <th>0</th>\n",
       "      <td>4012</td>\n",
       "      <td>2</td>\n",
       "      <td>22</td>\n",
       "      <td>2.4012</td>\n",
       "    </tr>\n",
       "    <tr>\n",
       "      <th>1</th>\n",
       "      <td>4012</td>\n",
       "      <td>3</td>\n",
       "      <td>44</td>\n",
       "      <td>3.4012</td>\n",
       "    </tr>\n",
       "    <tr>\n",
       "      <th>2</th>\n",
       "      <td>4012</td>\n",
       "      <td>6</td>\n",
       "      <td>77</td>\n",
       "      <td>6.4012</td>\n",
       "    </tr>\n",
       "    <tr>\n",
       "      <th>3</th>\n",
       "      <td>4012</td>\n",
       "      <td>7</td>\n",
       "      <td>22</td>\n",
       "      <td>7.4012</td>\n",
       "    </tr>\n",
       "    <tr>\n",
       "      <th>4</th>\n",
       "      <td>4012</td>\n",
       "      <td>9</td>\n",
       "      <td>44</td>\n",
       "      <td>9.4012</td>\n",
       "    </tr>\n",
       "  </tbody>\n",
       "</table>\n",
       "</div>"
      ],
      "text/plain": [
       "   brain_region  gene_id  sample_count  gene_region\n",
       "0          4012        2            22       2.4012\n",
       "1          4012        3            44       3.4012\n",
       "2          4012        6            77       6.4012\n",
       "3          4012        7            22       7.4012\n",
       "4          4012        9            44       9.4012"
      ]
     },
     "execution_count": 28,
     "metadata": {},
     "output_type": "execute_result"
    }
   ],
   "source": [
    "import datashader as ds\n",
    "import datashader.transfer_functions as tf\n",
    "import pandas as pd\n",
    "\n",
    "# # Simulate large data\n",
    "# df = pd.DataFrame({'category': np.random.randint(1, 100_000, size=6_000_000)})\n",
    "# df = number_of_samples_per_br_ge.copy()\n",
    "x = df['gene_region'].astype(str)\n",
    "y = df['sample_count']\n",
    "# # Aggregate counts\n",
    "df.head(5)"
   ]
  },
  {
   "cell_type": "code",
   "execution_count": null,
   "metadata": {},
   "outputs": [],
   "source": [
    "import vaex\n",
    "import bqplot as bq\n",
    "import ipywidgets as widgets\n",
    "\n",
    "# Load the CSV file\n",
    "data = vaex.from_pandas(df)\n",
    "\n",
    "# Calculate histogram data for a specific column, e.g., 'column_name'\n",
    "bins = 50  # Number of bins\n",
    "# counts, edges = data.histogram(data['column_name'], bins=bins)\n",
    "\n",
    "# Prepare data for the bar plot\n",
    "bin_centers = (data['sample_count'][:-1] + data['sample_count'][1:]) / 2  # Calculate bin centers for bar positioning\n",
    "\n",
    "# Create the bqplot bar plot\n",
    "x_scale = bq.LinearScale()\n",
    "y_scale = bq.LinearScale()\n",
    "\n",
    "bars = bq.Bars(x=bin_centers, y=data['gene_region'], scales={'x': x_scale, 'y': y_scale}, colors=['blue'])\n",
    "\n",
    "# Set up the figure\n",
    "x_axis = bq.Axis(scale=x_scale, label='Value')\n",
    "y_axis = bq.Axis(scale=y_scale, orientation='vertical', label='Frequency')\n",
    "\n",
    "fig = bq.Figure(marks=[bars], axes=[x_axis, y_axis])\n",
    "fig.title = 'Bar Plot (Histogram)'\n",
    "fig.layout.width = '800px'\n",
    "fig.layout.height = '400px'\n",
    "\n",
    "# Display the figure\n",
    "widgets.VBox([fig])"
   ]
  },
  {
   "cell_type": "code",
   "execution_count": 34,
   "metadata": {},
   "outputs": [],
   "source": [
    "# Create a Canvas object for the bar plot\n",
    "canvas = ds.Canvas(plot_width=500, plot_height=300, x_range=(0, len(df[\"gene_region\"])//2), y_range=(0, max(df[\"sample_count\"])))\n",
    "\n",
    "# Aggregate data into bins\n",
    "agg = canvas.line(df, x='gene_region', y='sample_count', agg=ds.mean('sample_count'))\n",
    "\n",
    "# Convert the aggregated data to an image\n",
    "img = tf.shade(agg, cmap=[\"#FF000#\"])\n",
    "img.to_pil().show()"
   ]
  },
  {
   "cell_type": "code",
   "execution_count": 27,
   "metadata": {},
   "outputs": [],
   "source": [
    "# Create Datashader Canvas\n",
    "canvas = ds.Canvas(plot_width=1000, plot_height=400)\n",
    "agg = canvas.line(pd.DataFrame({'x': x, 'y': y}), 'x', 'y')\n",
    "img = tf.shade(agg)\n",
    "img.to_pil().show()"
   ]
  },
  {
   "cell_type": "code",
   "execution_count": 68,
   "metadata": {},
   "outputs": [
    {
     "ename": "TypeError",
     "evalue": "'module' object is not callable",
     "output_type": "error",
     "traceback": [
      "\u001b[0;31m---------------------------------------------------------------------------\u001b[0m",
      "\u001b[0;31mTypeError\u001b[0m                                 Traceback (most recent call last)",
      "Cell \u001b[0;32mIn[68], line 2\u001b[0m\n\u001b[1;32m      1\u001b[0m \u001b[38;5;28;01mimport\u001b[39;00m\u001b[38;5;250m \u001b[39m\u001b[38;5;21;01mPyGnuplot\u001b[39;00m\u001b[38;5;250m \u001b[39m\u001b[38;5;28;01mas\u001b[39;00m\u001b[38;5;250m \u001b[39m\u001b[38;5;21;01mgp\u001b[39;00m \n\u001b[0;32m----> 2\u001b[0m f1 \u001b[38;5;241m=\u001b[39m \u001b[43mgp\u001b[49m\u001b[43m(\u001b[49m\u001b[43m)\u001b[49m\n\u001b[1;32m      3\u001b[0m x \u001b[38;5;241m=\u001b[39m df[\u001b[38;5;124m'\u001b[39m\u001b[38;5;124mgene_region\u001b[39m\u001b[38;5;124m'\u001b[39m]\u001b[38;5;241m.\u001b[39mto_numpy()\n\u001b[1;32m      4\u001b[0m y \u001b[38;5;241m=\u001b[39m df[\u001b[38;5;124m'\u001b[39m\u001b[38;5;124msample_count\u001b[39m\u001b[38;5;124m'\u001b[39m]\u001b[38;5;241m.\u001b[39mto_numpy()\n",
      "\u001b[0;31mTypeError\u001b[0m: 'module' object is not callable"
     ]
    }
   ],
   "source": [
    "import PyGnuplot as gp \n",
    "f1 = gp()\n",
    "x = df['gene_region'].to_numpy()\n",
    "y = df['sample_count'].to_numpy()\n",
    "data = [x, y]\n",
    "f1.a(\"plot x\")"
   ]
  },
  {
   "cell_type": "markdown",
   "metadata": {},
   "source": [
    "### Failed attempts for plotting due to memory: "
   ]
  },
  {
   "cell_type": "code",
   "execution_count": 47,
   "metadata": {},
   "outputs": [],
   "source": [
    "vaex_df = vaex.from_pandas(df)"
   ]
  },
  {
   "cell_type": "code",
   "execution_count": 60,
   "metadata": {},
   "outputs": [],
   "source": [
    "import vaex.jupyter.model as vjm\n",
    "\n",
    "import numpy as np\n",
    "import matplotlib.pyplot as plt"
   ]
  },
  {
   "cell_type": "code",
   "execution_count": 49,
   "metadata": {},
   "outputs": [
    {
     "data": {
      "text/plain": [
       "Axis(bin_centers=None, exception=None, expression=sample_count, max=None, min=None, shape=100, shape_default=64, slice=None, status=Status.NO_LIMITS)"
      ]
     },
     "execution_count": 49,
     "metadata": {},
     "output_type": "execute_result"
    }
   ],
   "source": [
    "gene_region_axis = vjm.Axis(df=vaex_df, expression=vaex_df.gene_region, shape=140)\n",
    "sample_count_axis = vjm.Axis(df=vaex_df, expression=vaex_df.sample_count, shape=100)\n",
    "sample_count_axis"
   ]
  },
  {
   "cell_type": "code",
   "execution_count": 50,
   "metadata": {},
   "outputs": [
    {
     "data": {
      "text/plain": [
       "Axis(bin_centers=[  27.875   81.625  135.375  189.125  242.875  296.625  350.375  404.125\n",
       "  457.875  511.625  565.375  619.125  672.875  726.625  780.375  834.125\n",
       "  887.875  941.625  995.375 1049.125 1102.875 1156.625 1210.375 1264.125\n",
       " 1317.875 1371.625 1425.375 1479.125 1532.875 1586.625 1640.375 1694.125\n",
       " 1747.875 1801.625 1855.375 1909.125 1962.875 2016.625 2070.375 2124.125\n",
       " 2177.875 2231.625 2285.375 2339.125 2392.875 2446.625 2500.375 2554.125\n",
       " 2607.875 2661.625 2715.375 2769.125 2822.875 2876.625 2930.375 2984.125\n",
       " 3037.875 3091.625 3145.375 3199.125 3252.875 3306.625 3360.375 3414.125\n",
       " 3467.875 3521.625 3575.375 3629.125 3682.875 3736.625 3790.375 3844.125\n",
       " 3897.875 3951.625 4005.375 4059.125 4112.875 4166.625 4220.375 4274.125\n",
       " 4327.875 4381.625 4435.375 4489.125 4542.875 4596.625 4650.375 4704.125\n",
       " 4757.875 4811.625 4865.375 4919.125 4972.875 5026.625 5080.375 5134.125\n",
       " 5187.875 5241.625 5295.375 5349.125], exception=None, expression=sample_count, max=5376.0, min=1.0, shape=100, shape_default=64, slice=None, status=Status.READY)"
      ]
     },
     "execution_count": 50,
     "metadata": {},
     "output_type": "execute_result"
    }
   ],
   "source": [
    "await vaex.jupyter.gather()  # wait until Vaex is done with all background computation\n",
    "sample_count_axis"
   ]
  },
  {
   "cell_type": "code",
   "execution_count": 51,
   "metadata": {},
   "outputs": [
    {
     "data": {
      "text/html": [
       "<table>\n",
       "<thead>\n",
       "<tr><th>#                                    </th><th>brain_region  </th><th>gene_id  </th><th>sample_count  </th><th>gene_region  </th></tr>\n",
       "</thead>\n",
       "<tbody>\n",
       "<tr><td><i style='opacity: 0.6'>0</i>        </td><td>4012          </td><td>2        </td><td>22            </td><td>2.4012       </td></tr>\n",
       "<tr><td><i style='opacity: 0.6'>1</i>        </td><td>4012          </td><td>3        </td><td>44            </td><td>3.4012       </td></tr>\n",
       "<tr><td><i style='opacity: 0.6'>2</i>        </td><td>4012          </td><td>6        </td><td>77            </td><td>6.4012       </td></tr>\n",
       "<tr><td><i style='opacity: 0.6'>3</i>        </td><td>4012          </td><td>7        </td><td>22            </td><td>7.4012       </td></tr>\n",
       "<tr><td><i style='opacity: 0.6'>4</i>        </td><td>4012          </td><td>9        </td><td>44            </td><td>9.4012       </td></tr>\n",
       "<tr><td>...                                  </td><td>...           </td><td>...      </td><td>...           </td><td>...          </td></tr>\n",
       "<tr><td><i style='opacity: 0.6'>6,185,943</i></td><td>13008         </td><td>1021983  </td><td>4             </td><td>1021983.13008</td></tr>\n",
       "<tr><td><i style='opacity: 0.6'>6,185,944</i></td><td>13008         </td><td>1021987  </td><td>4             </td><td>1021987.13008</td></tr>\n",
       "<tr><td><i style='opacity: 0.6'>6,185,945</i></td><td>13008         </td><td>1022208  </td><td>4             </td><td>1022208.13008</td></tr>\n",
       "<tr><td><i style='opacity: 0.6'>6,185,946</i></td><td>13008         </td><td>1022393  </td><td>8             </td><td>1022393.13008</td></tr>\n",
       "<tr><td><i style='opacity: 0.6'>6,185,947</i></td><td>13008         </td><td>1022429  </td><td>4             </td><td>1022429.13008</td></tr>\n",
       "</tbody>\n",
       "</table>"
      ],
      "text/plain": [
       "#          brain_region    gene_id    sample_count    gene_region\n",
       "0          4012            2          22              2.4012\n",
       "1          4012            3          44              3.4012\n",
       "2          4012            6          77              6.4012\n",
       "3          4012            7          22              7.4012\n",
       "4          4012            9          44              9.4012\n",
       "...        ...             ...        ...             ...\n",
       "6,185,943  13008           1021983    4               1021983.13008\n",
       "6,185,944  13008           1021987    4               1021987.13008\n",
       "6,185,945  13008           1022208    4               1022208.13008\n",
       "6,185,946  13008           1022393    8               1022393.13008\n",
       "6,185,947  13008           1022429    4               1022429.13008"
      ]
     },
     "execution_count": 51,
     "metadata": {},
     "output_type": "execute_result"
    }
   ],
   "source": [
    "vaex_df"
   ]
  },
  {
   "cell_type": "code",
   "execution_count": 64,
   "metadata": {},
   "outputs": [
    {
     "ename": "AttributeError",
     "evalue": "'method' object has no attribute 'backend'",
     "output_type": "error",
     "traceback": [
      "\u001b[0;31m---------------------------------------------------------------------------\u001b[0m",
      "\u001b[0;31mAttributeError\u001b[0m                            Traceback (most recent call last)",
      "Cell \u001b[0;32mIn[64], line 3\u001b[0m\n\u001b[1;32m      1\u001b[0m \u001b[38;5;66;03m# Example DataFrame\u001b[39;00m\n\u001b[1;32m      2\u001b[0m df___ \u001b[38;5;241m=\u001b[39m vaex\u001b[38;5;241m.\u001b[39mfrom_arrays(x\u001b[38;5;241m=\u001b[39mdf[\u001b[38;5;124m'\u001b[39m\u001b[38;5;124mgene_region\u001b[39m\u001b[38;5;124m'\u001b[39m]\u001b[38;5;241m.\u001b[39mto_numpy(), y\u001b[38;5;241m=\u001b[39mdf[\u001b[38;5;124m'\u001b[39m\u001b[38;5;124msample_count\u001b[39m\u001b[38;5;124m'\u001b[39m]\u001b[38;5;241m.\u001b[39mto_numpy())\n\u001b[0;32m----> 3\u001b[0m \u001b[43mdf___\u001b[49m\u001b[38;5;241;43m.\u001b[39;49m\u001b[43mplot\u001b[49m\u001b[38;5;241;43m.\u001b[39;49m\u001b[43mbackend\u001b[49m \u001b[38;5;241m=\u001b[39m \u001b[38;5;124m'\u001b[39m\u001b[38;5;124mplt\u001b[39m\u001b[38;5;124m'\u001b[39m\n\u001b[1;32m      4\u001b[0m \u001b[38;5;66;03m# Plot the two columns against each other\u001b[39;00m\n\u001b[1;32m      5\u001b[0m df___\u001b[38;5;241m.\u001b[39mplot(x\u001b[38;5;241m=\u001b[39m\u001b[38;5;124m'\u001b[39m\u001b[38;5;124mx\u001b[39m\u001b[38;5;124m'\u001b[39m, y\u001b[38;5;241m=\u001b[39m\u001b[38;5;124m'\u001b[39m\u001b[38;5;124my\u001b[39m\u001b[38;5;124m'\u001b[39m)\n",
      "\u001b[0;31mAttributeError\u001b[0m: 'method' object has no attribute 'backend'"
     ]
    }
   ],
   "source": [
    "# Example DataFrame\n",
    "df___ = vaex.from_arrays(x=df['gene_region'].to_numpy(), y=df['sample_count'].to_numpy())\n",
    "df___.plot.backend = 'plt'\n",
    "# Plot the two columns against each other\n",
    "df___.plot(x='x', y='y')"
   ]
  },
  {
   "cell_type": "code",
   "execution_count": 52,
   "metadata": {},
   "outputs": [
    {
     "data": {
      "application/vnd.jupyter.widget-view+json": {
       "model_id": "cb09dbaef6db47e29d3f0abdcfa181db",
       "version_major": 2,
       "version_minor": 0
      },
      "text/plain": [
       "DataArray(children=[Container(children=[ProgressCircularNoAnimation(color='#9ECBF5', size=30, text='', value=1…"
      ]
     },
     "execution_count": 52,
     "metadata": {},
     "output_type": "execute_result"
    }
   ],
   "source": [
    "data_array_widget = vaex_df.widget.data_array(axes=[sample_count_axis, gene_region_axis], selection=[None, 'default'])\n",
    "data_array_widget  # being the last expression in the cell, Jupyter  will 'display' the widget"
   ]
  },
  {
   "cell_type": "code",
   "execution_count": 46,
   "metadata": {},
   "outputs": [
    {
     "name": "stdout",
     "output_type": "stream",
     "text": [
      "type: <class 'xarray.core.dataarray.DataArray'>\n",
      "dims: ('selection', 'sample_count', 'gene_region')\n",
      "data: [[[907797 511807      0 ... 941028 886114  11377]\n",
      "  [131637  68152      0 ...  23395  17545    270]\n",
      "  [ 14395   5805      0 ...   1687   1671     12]\n",
      "  ...\n",
      "  [     0      0      0 ...      0      0      0]\n",
      "  [     0      0      0 ...      0      0      0]\n",
      "  [     1      0      0 ...      0      0      0]]]\n",
      "coords: Coordinates:\n",
      "  * selection     (selection) object None\n",
      "  * sample_count  (sample_count) float64 27.88 81.62 ... 5.295e+03 5.349e+03\n",
      "  * gene_region   (gene_region) float64 3.654e+03 1.096e+04 ... 1.019e+06\n"
     ]
    },
    {
     "ename": "KeyError",
     "evalue": "'Lz'",
     "output_type": "error",
     "traceback": [
      "\u001b[0;31m---------------------------------------------------------------------------\u001b[0m",
      "\u001b[0;31mKeyError\u001b[0m                                  Traceback (most recent call last)",
      "File \u001b[0;32m~/.cache/pypoetry/virtualenvs/src-45NefiVU-py3.8/lib/python3.8/site-packages/xarray/core/dataarray.py:816\u001b[0m, in \u001b[0;36mDataArray._getitem_coord\u001b[0;34m(self, key)\u001b[0m\n\u001b[1;32m    815\u001b[0m \u001b[38;5;28;01mtry\u001b[39;00m:\n\u001b[0;32m--> 816\u001b[0m     var \u001b[38;5;241m=\u001b[39m \u001b[38;5;28;43mself\u001b[39;49m\u001b[38;5;241;43m.\u001b[39;49m\u001b[43m_coords\u001b[49m\u001b[43m[\u001b[49m\u001b[43mkey\u001b[49m\u001b[43m]\u001b[49m\n\u001b[1;32m    817\u001b[0m \u001b[38;5;28;01mexcept\u001b[39;00m \u001b[38;5;167;01mKeyError\u001b[39;00m:\n",
      "\u001b[0;31mKeyError\u001b[0m: 'Lz'",
      "\nDuring handling of the above exception, another exception occurred:\n",
      "\u001b[0;31mKeyError\u001b[0m                                  Traceback (most recent call last)",
      "Cell \u001b[0;32mIn[46], line 8\u001b[0m\n\u001b[1;32m      6\u001b[0m \u001b[38;5;28mprint\u001b[39m(\u001b[38;5;124m\"\u001b[39m\u001b[38;5;124mdata:\u001b[39m\u001b[38;5;124m\"\u001b[39m, data_array\u001b[38;5;241m.\u001b[39mdata)\n\u001b[1;32m      7\u001b[0m \u001b[38;5;28mprint\u001b[39m(\u001b[38;5;124m\"\u001b[39m\u001b[38;5;124mcoords:\u001b[39m\u001b[38;5;124m\"\u001b[39m, data_array\u001b[38;5;241m.\u001b[39mcoords)\n\u001b[0;32m----> 8\u001b[0m \u001b[38;5;28mprint\u001b[39m(\u001b[38;5;124m\"\u001b[39m\u001b[38;5;124mLz\u001b[39m\u001b[38;5;124m'\u001b[39m\u001b[38;5;124ms data:\u001b[39m\u001b[38;5;124m\"\u001b[39m, \u001b[43mdata_array\u001b[49m\u001b[38;5;241;43m.\u001b[39;49m\u001b[43mcoords\u001b[49m\u001b[43m[\u001b[49m\u001b[38;5;124;43m'\u001b[39;49m\u001b[38;5;124;43mLz\u001b[39;49m\u001b[38;5;124;43m'\u001b[39;49m\u001b[43m]\u001b[49m\u001b[38;5;241m.\u001b[39mdata)\n\u001b[1;32m      9\u001b[0m \u001b[38;5;28mprint\u001b[39m(\u001b[38;5;124m\"\u001b[39m\u001b[38;5;124mLz\u001b[39m\u001b[38;5;124m'\u001b[39m\u001b[38;5;124ms attrs:\u001b[39m\u001b[38;5;124m\"\u001b[39m, data_array\u001b[38;5;241m.\u001b[39mcoords[\u001b[38;5;124m'\u001b[39m\u001b[38;5;124mLz\u001b[39m\u001b[38;5;124m'\u001b[39m]\u001b[38;5;241m.\u001b[39mattrs)\n\u001b[1;32m     10\u001b[0m \u001b[38;5;28mprint\u001b[39m(\u001b[38;5;124m\"\u001b[39m\u001b[38;5;124mAnd displaying the xarray DataArray:\u001b[39m\u001b[38;5;124m\"\u001b[39m)\n",
      "File \u001b[0;32m~/.cache/pypoetry/virtualenvs/src-45NefiVU-py3.8/lib/python3.8/site-packages/xarray/core/coordinates.py:386\u001b[0m, in \u001b[0;36mDataArrayCoordinates.__getitem__\u001b[0;34m(self, key)\u001b[0m\n\u001b[1;32m    385\u001b[0m \u001b[38;5;28;01mdef\u001b[39;00m\u001b[38;5;250m \u001b[39m\u001b[38;5;21m__getitem__\u001b[39m(\u001b[38;5;28mself\u001b[39m, key: Hashable) \u001b[38;5;241m-\u001b[39m\u001b[38;5;241m>\u001b[39m T_DataArray:\n\u001b[0;32m--> 386\u001b[0m     \u001b[38;5;28;01mreturn\u001b[39;00m \u001b[38;5;28;43mself\u001b[39;49m\u001b[38;5;241;43m.\u001b[39;49m\u001b[43m_data\u001b[49m\u001b[38;5;241;43m.\u001b[39;49m\u001b[43m_getitem_coord\u001b[49m\u001b[43m(\u001b[49m\u001b[43mkey\u001b[49m\u001b[43m)\u001b[49m\n",
      "File \u001b[0;32m~/.cache/pypoetry/virtualenvs/src-45NefiVU-py3.8/lib/python3.8/site-packages/xarray/core/dataarray.py:819\u001b[0m, in \u001b[0;36mDataArray._getitem_coord\u001b[0;34m(self, key)\u001b[0m\n\u001b[1;32m    817\u001b[0m \u001b[38;5;28;01mexcept\u001b[39;00m \u001b[38;5;167;01mKeyError\u001b[39;00m:\n\u001b[1;32m    818\u001b[0m     dim_sizes \u001b[38;5;241m=\u001b[39m \u001b[38;5;28mdict\u001b[39m(\u001b[38;5;28mzip\u001b[39m(\u001b[38;5;28mself\u001b[39m\u001b[38;5;241m.\u001b[39mdims, \u001b[38;5;28mself\u001b[39m\u001b[38;5;241m.\u001b[39mshape))\n\u001b[0;32m--> 819\u001b[0m     _, key, var \u001b[38;5;241m=\u001b[39m \u001b[43m_get_virtual_variable\u001b[49m\u001b[43m(\u001b[49m\u001b[38;5;28;43mself\u001b[39;49m\u001b[38;5;241;43m.\u001b[39;49m\u001b[43m_coords\u001b[49m\u001b[43m,\u001b[49m\u001b[43m \u001b[49m\u001b[43mkey\u001b[49m\u001b[43m,\u001b[49m\u001b[43m \u001b[49m\u001b[43mdim_sizes\u001b[49m\u001b[43m)\u001b[49m\n\u001b[1;32m    821\u001b[0m \u001b[38;5;28;01mreturn\u001b[39;00m \u001b[38;5;28mself\u001b[39m\u001b[38;5;241m.\u001b[39m_replace_maybe_drop_dims(var, name\u001b[38;5;241m=\u001b[39mkey)\n",
      "File \u001b[0;32m~/.cache/pypoetry/virtualenvs/src-45NefiVU-py3.8/lib/python3.8/site-packages/xarray/core/dataset.py:186\u001b[0m, in \u001b[0;36m_get_virtual_variable\u001b[0;34m(variables, key, dim_sizes)\u001b[0m\n\u001b[1;32m    184\u001b[0m split_key \u001b[38;5;241m=\u001b[39m key\u001b[38;5;241m.\u001b[39msplit(\u001b[38;5;124m\"\u001b[39m\u001b[38;5;124m.\u001b[39m\u001b[38;5;124m\"\u001b[39m, \u001b[38;5;241m1\u001b[39m)\n\u001b[1;32m    185\u001b[0m \u001b[38;5;28;01mif\u001b[39;00m \u001b[38;5;28mlen\u001b[39m(split_key) \u001b[38;5;241m!=\u001b[39m \u001b[38;5;241m2\u001b[39m:\n\u001b[0;32m--> 186\u001b[0m     \u001b[38;5;28;01mraise\u001b[39;00m \u001b[38;5;167;01mKeyError\u001b[39;00m(key)\n\u001b[1;32m    188\u001b[0m ref_name, var_name \u001b[38;5;241m=\u001b[39m split_key\n\u001b[1;32m    189\u001b[0m ref_var \u001b[38;5;241m=\u001b[39m variables[ref_name]\n",
      "\u001b[0;31mKeyError\u001b[0m: 'Lz'"
     ]
    }
   ],
   "source": [
    "await vaex.jupyter.gather()\n",
    "# get a reference to the xarray DataArray object\n",
    "data_array = data_array_widget.model.grid\n",
    "print(f\"type:\", type(data_array))\n",
    "print(\"dims:\", data_array.dims)\n",
    "print(\"data:\", data_array.data)\n",
    "print(\"coords:\", data_array.coords)\n",
    "print(\"Lz's data:\", data_array.coords['Lz'].data)\n",
    "print(\"Lz's attrs:\", data_array.coords['Lz'].attrs)\n",
    "print(\"And displaying the xarray DataArray:\")\n",
    "display(data_array)  # this is what the vaex.jupyter.view.DataArray uses"
   ]
  },
  {
   "cell_type": "code",
   "execution_count": 43,
   "metadata": {},
   "outputs": [
    {
     "data": {
      "application/vnd.jupyter.widget-view+json": {
       "model_id": "95ce1b52346f4c1a891500509ad6a681",
       "version_major": 2,
       "version_minor": 0
      },
      "text/plain": [
       "DataArray(children=[Container(children=[ProgressCircularNoAnimation(color='#9ECBF5', size=30, text='', value=1…"
      ]
     },
     "execution_count": 43,
     "metadata": {},
     "output_type": "execute_result"
    },
    {
     "data": {
      "text/plain": [
       "<Figure size 800x800 with 0 Axes>"
      ]
     },
     "metadata": {},
     "output_type": "display_data"
    },
    {
     "name": "stdout",
     "output_type": "stream",
     "text": [
      "Sample Count: [ 27.875  81.625 135.375 189.125 242.875]...\n",
      "Gene Region: [ 3653.62953132 10956.68573396 18259.74193661 25562.79813925\n",
      " 32865.85434189]...\n"
     ]
    }
   ],
   "source": [
    "def plot2d(da):\n",
    "    plt.figure(figsize=(8, 8))\n",
    "    \n",
    "    # Assuming 'sample_count' and 'gene_region' are columns in the dataset\n",
    "    sample_count = da['sample_count'].values\n",
    "    gene_region = da['gene_region'].values\n",
    "    \n",
    "    # You can now work with these columns, for example:\n",
    "    print(f\"Sample Count: {sample_count[:5]}...\")  # Displaying first 5 values for brevity\n",
    "    print(f\"Gene Region: {gene_region[:5]}...\")   # Displaying first 5 values for brevity\n",
    "    \n",
    "    # Take the numpy data and select the relevant data for plotting\n",
    "    ar = da.data[1]  # Adjust this selection if needed\n",
    "    \n",
    "    print(f'imshow of a numpy array of shape: {ar.shape}')\n",
    "    plt.imshow(np.log1p(ar.T), origin='lower')\n",
    "\n",
    "# Update the widget to include 'sample_count' and 'gene_region'\n",
    "vaex_df.widget.data_array(axes=[Lz_axis, E_axis], display_function=plot2d, selection=[None, True], columns=['sample_count', 'gene_region'])\n"
   ]
  },
  {
   "cell_type": "code",
   "execution_count": 15,
   "metadata": {},
   "outputs": [],
   "source": [
    "import vaex\n",
    "import plotly.express as px\n",
    "import plotly.graph_objects as go\n",
    "# Assuming df is your pandas DataFrame, first convert it to a Vaex DataFrame\n",
    "vaex_df = vaex.from_pandas(df)\n",
    "\n",
    "# Convert your pandas DataFrame to Vaex DataFrame\n",
    "vaex_df = vaex.from_pandas(df)\n",
    "\n",
    "# Extract the data\n",
    "x = vaex_df['gene.region'].to_numpy()  # Efficient extraction to numpy\n",
    "y = vaex_df['sample_count'].to_numpy()\n",
    "\n",
    "# Plotting using Plotly scattergl\n",
    "fig = go.Figure(data=go.Scattergl(\n",
    "    x=x, y=y, mode='markers', marker=dict(color='blue', size=5)\n",
    "))\n",
    "\n",
    "fig.update_layout(\n",
    "    title='Sample Count vs Gene.Region',\n",
    "    xaxis_title='Gene.Region',\n",
    "    yaxis_title='Sample Count',\n",
    "    template='plotly_dark'\n",
    ")\n",
    "\n",
    "fig.show()"
   ]
  },
  {
   "cell_type": "code",
   "execution_count": null,
   "metadata": {},
   "outputs": [],
   "source": [
    "vaex_df.plot(x='gene.region', y='sample_count', kind='scatter', \n",
    "             title='Sample Count vs Gene.Region', show=True)"
   ]
  },
  {
   "cell_type": "code",
   "execution_count": 20,
   "metadata": {},
   "outputs": [
    {
     "ename": "",
     "evalue": "",
     "output_type": "error",
     "traceback": [
      "\u001b[1;31mThe Kernel crashed while executing code in the current cell or a previous cell. \n",
      "\u001b[1;31mPlease review the code in the cell(s) to identify a possible cause of the failure. \n",
      "\u001b[1;31mClick <a href='https://aka.ms/vscodeJupyterKernelCrash'>here</a> for more info. \n",
      "\u001b[1;31mView Jupyter <a href='command:jupyter.viewOutput'>log</a> for further details."
     ]
    }
   ],
   "source": [
    "# Plotting\n",
    "# Explicitly convert to NumPy arrays before plotting\n",
    "x = np.array(df['gene.region'])\n",
    "y = np.array(df['sample_count'])\n",
    "\n",
    "# Plotting\n",
    "import seaborn as sns\n",
    "\n",
    "# Plotting using seaborn\n",
    "plt.figure(figsize=(10, 6))\n",
    "sns.barplot(x='gene.region', y='sample_count', data=df, color='b')\n",
    "plt.xticks(rotation=45, ha='right')  # Rotate x-axis labels for readability\n",
    "plt.xlabel('Gene.Region')\n",
    "plt.ylabel('Sample Count')\n",
    "plt.title('Sample Count vs Gene.Region')\n",
    "plt.tight_layout()\n",
    "plt.show()"
   ]
  },
  {
   "cell_type": "code",
   "execution_count": 35,
   "metadata": {},
   "outputs": [
    {
     "data": {
      "image/png": "[encoded data removed]",
      "text/plain": [
       "<Figure size 1200x700 with 1 Axes>"
      ]
     },
     "metadata": {},
     "output_type": "display_data"
    }
   ],
   "source": [
    "import matplotlib.pyplot as plt\n",
    "import numpy as np\n",
    "from scipy.stats import norm\n",
    "# Calculate statistics\n",
    "mean = meta_donor_df['sample_count'].mean()\n",
    "std = meta_donor_df['sample_count'].std()\n",
    "\n",
    "# Create the histogram\n",
    "plt.figure(figsize=(12, 7))\n",
    "\n",
    "# Plot histogram with fewer bins and get the parameters for gaussian fit\n",
    "counts, bins, _ = plt.hist(meta_donor_df['sample_count'], bins=50, density=True, \n",
    "                          alpha=0.7, edgecolor='black', label='Data')\n",
    "\n",
    "# Generate points for the Gaussian curve\n",
    "x = np.linspace(min(bins), max(bins), 100)\n",
    "gaussian = norm.pdf(x, mean, std)\n",
    "\n",
    "# Plot the Gaussian curve\n",
    "plt.plot(x, gaussian, 'r-', lw=2, label='Gaussian fit')\n",
    "\n",
    "# Add vertical lines for mean and mean ± std\n",
    "plt.axvline(mean, color='g', linestyle='--', alpha=0.8, label=f'Mean = {mean:.2f}')\n",
    "plt.axvline(mean + std, color='orange', linestyle='--', alpha=0.8, \n",
    "            label=f'Mean ± Std\\nStd = {std:.2f}')\n",
    "plt.axvline(mean - std, color='orange', linestyle='--', alpha=0.8)\n",
    "\n",
    "# Add labels and title\n",
    "plt.title('Brain-Region-Gen-Id Samples Histogram')\n",
    "plt.xlabel('Number of Samples')\n",
    "plt.ylabel('Density')\n",
    "\n",
    "# Add grid and legend\n",
    "plt.grid(True, alpha=0.3)\n",
    "plt.legend()\n",
    "\n",
    "# Set y-axis limits and ticks\n",
    "counts_max = np.max(counts)\n",
    "plt.ylim(0, counts_max * 1.2)\n",
    "yticks = np.linspace(0, counts_max * 1.2, 10)\n",
    "plt.yticks(yticks)\n",
    "\n",
    "# Set x-axis limits and ticks based on data range\n",
    "data_min = meta_donor_df['sample_count'].min()\n",
    "data_max = meta_donor_df['sample_count'].max()\n",
    "xticks = np.linspace(data_min, data_max, 12)  # 12 evenly spaced ticks\n",
    "plt.xticks(xticks, rotation=45)\n",
    "\n",
    "# Format tick labels\n",
    "plt.gca().yaxis.set_major_formatter(plt.FormatStrFormatter('%.3f'))\n",
    "plt.gca().xaxis.set_major_formatter(plt.FormatStrFormatter('%.1f'))\n",
    "\n",
    "# Adjust layout to prevent label cutoff\n",
    "plt.tight_layout()\n",
    "\n",
    "# Show the plot\n",
    "plt.show()"
   ]
  },
  {
   "cell_type": "code",
   "execution_count": 40,
   "metadata": {},
   "outputs": [
    {
     "data": {
      "image/png": "[encoded data removed]",
      "text/plain": [
       "<Figure size 1400x800 with 1 Axes>"
      ]
     },
     "metadata": {},
     "output_type": "display_data"
    }
   ],
   "source": [
    "plot_histogram(number_of_samples_per_br, plot_title='Brain-Region Samples Histogram', x_title=\"Number of Samples\", y_title=\"Density\"\n",
    ", bins=50)"
   ]
  },
  {
   "cell_type": "code",
   "execution_count": null,
   "metadata": {},
   "outputs": [],
   "source": [
    "# def get_meta_donor_lists(pth: Path) -> Tuple[List[str], List[int], List[int], int]:\n",
    "#     \"\"\"\n",
    "#         Export Brain Regions, Gene_Ids and Brain Samples Per Region Lists for plotting. \n",
    "#     \"\"\"\n",
    "#     # Lists to store information for plotting\n",
    "#     brain_regions = []\n",
    "#     gene_ids = []\n",
    "#     samples_sizes_br = []\n",
    "#     samples_sizes_br_ge = []\n",
    "#     total_number_of_samples = 0\n",
    "\n",
    "#     # Stream through the JSON file using ijson\n",
    "#     with open(pth, \"r\") as f:\n",
    "#         # Parse key-value pairs at the root level\n",
    "#         for brain_region, genes in ijson.kvitems(f, ''):\n",
    "#             logger.info(f\"Brain Region: {brain_region}\")  # Access the brain region key (e.g., \"4012\")\n",
    "#             number_of_samples_per_brain_region = 0\n",
    "#             for gene in genes:\n",
    "#                 # Access gene_id\n",
    "#                 gene_id = gene[\"gene_id\"]\n",
    "#                 gene_ids.append(gene_id)\n",
    "                \n",
    "#                 # Access gene_expression_values and convert to float if Decimal\n",
    "#                 gene_expression_values = [float(val) if isinstance(val, Decimal) else val for val in gene[\"gene_expression_values\"]]\n",
    "#                 samples_sizes_br_ge.append(len(gene_expression_values))\n",
    "#                 number_of_samples_per_brain_region+=len(gene_expression_values)\n",
    "\n",
    "#                 # Calculate the total number of sample sizes\n",
    "#                 total_number_of_samples+= len(gene_expression_values)\n",
    "\n",
    "#             samples_sizes_br.append(number_of_samples_per_brain_region)\n",
    "#             brain_regions.append(brain_region)\n",
    "    \n",
    "#     return brain_regions, gene_ids, samples_sizes_br, samples_sizes_br_ge, total_number_of_samples,      \n",
    "\n",
    "# # EXP1 \n",
    "#  # Path of the meta_donor data\n",
    "# meta_donor_json_pth = PROCESSED_DONORS_GE_PATH / Path(\"meta_donor.json\")\n",
    "# brain_regions, brain_regions_gene_ids, samples_sizes_br, samples_sizes_br_ge, total_number_of_samples= get_meta_donor_lists(meta_donor_json_pth)\n",
    "\n",
    "# gene_ids = list(set(brain_regions_gene_ids))\n",
    "\n",
    "# logger.info(f\"Number of Total Brain Regions: {len(brain_regions)}\")\n",
    "# logger.info(f\"Number of Sample Sizes Calculated {len(samples_sizes_br)}\")\n",
    "# logger.info(f\"Number of Gene Ids  {len(gene_ids)}\")\n",
    "# logger.info(f\"Total Samples across all Brain Regions {total_number_of_samples}\")\n",
    "    \n",
    "# # #Plots\n",
    "# # plot_values(brain_regions, samples_sizes_br, \"Number of Samples Per Brain Regions\", \n",
    "# #                 \"Brain Regions\", \"Number of Samples\", True)\n",
    "\n",
    "# # plot_histogram(samples_sizes_br, plot_title=\"Sample Size per Brain Region Histogram-20\", \n",
    "# #                x_title=\"Sample Size Per Brain Region\", y_title=\"Number of Brain Regions (Frequence)\", bins=20, save=True)      \n",
    "    \n",
    "\n"
   ]
  },
  {
   "cell_type": "code",
   "execution_count": null,
   "metadata": {},
   "outputs": [],
   "source": [
    "# 11759550, 20355395, 19296753, 14957144, 1068697, 46375434,\n"
   ]
  },
  {
   "cell_type": "code",
   "execution_count": null,
   "metadata": {},
   "outputs": [],
   "source": [
    "# import matplotlib.pyplot as plt\n",
    "# import pandas as pd\n",
    "\n",
    "# # Calculate sums by brain region\n",
    "# region_sums = df.groupby('brain_region')['num_values'].sum()\n",
    "\n",
    "# # Create the plot\n",
    "# plt.figure(figsize=(12, 6))\n",
    "# ax = region_sums.plot(kind='bar')\n",
    "\n",
    "# # Customize the plot\n",
    "# plt.title('Sum of Values by Brain Region', pad=20)\n",
    "# plt.xlabel('Brain Region')\n",
    "# plt.ylabel('Sum of Values')\n",
    "\n",
    "# # Rotate x-axis labels for better readability\n",
    "# plt.xticks(rotation=45, ha='right')\n",
    "\n",
    "# # Add value labels on top of each bar\n",
    "# for i, v in enumerate(region_sums):\n",
    "#     ax.text(i, v, f'{v:.2f}', ha='center', va='bottom')\n",
    "\n",
    "# # Adjust layout to prevent label cutoff\n",
    "# plt.tight_layout()\n",
    "\n",
    "# # Show the plot\n",
    "# plt.show()"
   ]
  }
 ],
 "metadata": {
  "kernelspec": {
   "display_name": "src-45NefiVU-py3.8",
   "language": "python",
   "name": "python3"
  },
  "language_info": {
   "codemirror_mode": {
    "name": "ipython",
    "version": 3
   },
   "file_extension": ".py",
   "mimetype": "text/x-python",
   "name": "python",
   "nbconvert_exporter": "python",
   "pygments_lexer": "ipython3",
   "version": "3.8.19"
  }
 },
 "nbformat": 4,
 "nbformat_minor": 2
}
