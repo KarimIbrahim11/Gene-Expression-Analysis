{
 "cells": [
  {
   "cell_type": "code",
   "execution_count": 1,
   "metadata": {},
   "outputs": [],
   "source": [
    "import json\n",
    "import logging\n",
    "\n",
    "import numpy as np\n",
    "\n",
    "from pathlib import Path\n",
    "\n",
    "from src.utils.data import *\n",
    "from src.utils.plots import *\n",
    "from src.utils.sampling import *\n",
    "from src.utils.memory_management import *\n",
    "from src.utils.statistics_utils import *"
   ]
  },
  {
   "cell_type": "markdown",
   "metadata": {},
   "source": [
    "Setting up Logger"
   ]
  },
  {
   "cell_type": "code",
   "execution_count": 2,
   "metadata": {},
   "outputs": [],
   "source": [
    "# Set up logger\n",
    "logger = logging.getLogger(__name__)\n",
    "logger.setLevel(logging.INFO)\n",
    "\n",
    "# Create a console handler\n",
    "sh = logging.StreamHandler()\n",
    "sh.setLevel(logging.INFO)\n",
    "# Add the handler to the logger\n",
    "logger.addHandler(sh)"
   ]
  },
  {
   "cell_type": "markdown",
   "metadata": {},
   "source": [
    "Loading the `ConfigParser` for paths"
   ]
  },
  {
   "cell_type": "code",
   "execution_count": 3,
   "metadata": {},
   "outputs": [],
   "source": [
    "from src.configs.config_parser import PathConfigParser, data_config_file, project_root\n",
    "\n",
    "# Configs Directory\n",
    "parser = PathConfigParser(str(data_config_file))\n",
    "parser.load()"
   ]
  },
  {
   "cell_type": "code",
   "execution_count": 4,
   "metadata": {},
   "outputs": [],
   "source": [
    "# Data Paths\n",
    "PROCESSED_DATA_PATH = project_root / parser.get(\"data_paths\", {}).get(\"processed_data\")\n",
    "GE_PATH = parser.get(\"data_paths\", {}).get(\"brain_regions_genes_ge\")\n",
    "PROCESSED_DONORS_GE_PATH = PROCESSED_DATA_PATH / GE_PATH\n",
    "\n",
    "# Donors_ids\n",
    "DONORS_IDS = parser.get(\"donors_ids\")"
   ]
  },
  {
   "cell_type": "markdown",
   "metadata": {},
   "source": [
    "Loading the Meta Donor DataFrame"
   ]
  },
  {
   "cell_type": "code",
   "execution_count": null,
   "metadata": {},
   "outputs": [],
   "source": [
    "meta_donor_csv_pth = PROCESSED_DONORS_GE_PATH / Path(\"meta_donor.csv\")\n",
    "meta_donor_df = load_df_from_csv(meta_donor_csv_pth)\n",
    "meta_donor_df.head(3)"
   ]
  },
  {
   "cell_type": "markdown",
   "metadata": {},
   "source": [
    "Converting the gene_expression_values from a stored string to a list"
   ]
  },
  {
   "cell_type": "code",
   "execution_count": null,
   "metadata": {},
   "outputs": [],
   "source": [
    "meta_donor_df[\"gene_expression_values\"]=meta_donor_df[\"gene_expression_values\"].apply(json.loads)\n",
    "logger.info(meta_donor_df[\"gene_expression_values\"][0][0])"
   ]
  },
  {
   "cell_type": "markdown",
   "metadata": {},
   "source": [
    "### Thresholding over the Sample Sizes"
   ]
  },
  {
   "cell_type": "code",
   "execution_count": null,
   "metadata": {},
   "outputs": [],
   "source": [
    "meta_donor_df_filtered = meta_donor_df.copy()\n",
    "number_of_samples_per_br_ge = get_number_of_samples_per_br_ge(meta_donor_df_filtered)\n",
    "logger.info(f\"{meta_donor_df_filtered.head(3)}\")\n",
    "range_with_powers_of_two = [2**i for i in range(3, 11)] \n",
    "count_per_threshold= get_br_ge_count_above_sample_size(meta_donor_df_filtered, range = range_with_powers_of_two)"
   ]
  },
  {
   "cell_type": "code",
   "execution_count": null,
   "metadata": {},
   "outputs": [],
   "source": [
    "meta_donor_df_filtered = mask_samples_threshold(meta_donor_df_filtered, threshold=1024)\n",
    "logger.info(meta_donor_df_filtered.head(4))\n",
    "logger.info(f\"DF Length after filtering matches number of samples expected: {count_per_threshold[len(count_per_threshold)-1]==len(meta_donor_df_filtered)}\")"
   ]
  },
  {
   "cell_type": "markdown",
   "metadata": {},
   "source": [
    "### Calculating H0 expression values"
   ]
  },
  {
   "cell_type": "code",
   "execution_count": null,
   "metadata": {},
   "outputs": [],
   "source": [
    "geneid_H0 = calculate_gene_mean_expression_values(meta_donor_df)\n",
    "\n",
    "logger.info(geneid_H0.head(5))\n",
    "logger.info(f\"Number of Total Sample Count == {geneid_H0['total_sample_count'].sum() == get_total_number_of_samples(meta_donor_df)}\")"
   ]
  },
  {
   "cell_type": "markdown",
   "metadata": {},
   "source": [
    "Histogram of Mean Expression Values per Gene"
   ]
  },
  {
   "cell_type": "code",
   "execution_count": null,
   "metadata": {},
   "outputs": [],
   "source": [
    "plot_histogram(geneid_H0[\"weighted_mean\"], plot_title=\"Histogram of Mean Expression Values for a Gene ID-1000\", \n",
    "               x_title=\"Mean Values\", y_title=\"Number of Genes\", bins=1000, save=True)"
   ]
  },
  {
   "cell_type": "code",
   "execution_count": null,
   "metadata": {},
   "outputs": [],
   "source": [
    "len(meta_donor_df[(meta_donor_df['brain_region'] == 4012) & (meta_donor_df['gene_id'] == 2541)][\"gene_expression_values\"].to_list()[0])"
   ]
  },
  {
   "cell_type": "markdown",
   "metadata": {},
   "source": [
    "### Calculating STD of each Gene ID for Calculating the Effect Sizes"
   ]
  },
  {
   "cell_type": "code",
   "execution_count": null,
   "metadata": {},
   "outputs": [],
   "source": [
    "df_std = meta_donor_df.copy()\n",
    "std_per_gene = calculate_std_gene_id_optimized(df_std)\n",
    "geneid_H0[\"std\"] = std_per_gene[\"std\"]\n",
    "geneid_H0"
   ]
  },
  {
   "cell_type": "code",
   "execution_count": null,
   "metadata": {},
   "outputs": [],
   "source": [
    "# Extract the values for one of the groups\n",
    "sample_size = 1024\n",
    "gene_id = 2541\n",
    "\n",
    "sample = get_br_ge_sample(meta_donor_df_filtered, br=4012, ge=gene_id)\n",
    "print(len(sample))\n",
    "\n",
    "if sample_size > len(sample):\n",
    "    logger.warning(f\"Reproducing Error, sample size available: {len(sample)} < sample_size chosen: {sample_size}\")\n",
    "else:\n",
    "    sample = sample[:sample_size]\n",
    "\n",
    "\n",
    "sample_mean = np.mean(sample)"
   ]
  },
  {
   "cell_type": "markdown",
   "metadata": {},
   "source": [
    "### Calculating Effect Size Cohen's D and Power Analysis\n",
    "Calculating std per Gene_id "
   ]
  },
  {
   "cell_type": "code",
   "execution_count": null,
   "metadata": {},
   "outputs": [],
   "source": [
    "control_group_mean = geneid_H0.loc[geneid_H0[\"gene_id\"] == int(gene_id), \"weighted_mean\"].iloc[0]\n",
    "control_group_std = geneid_H0.loc[geneid_H0[\"gene_id\"] == int(gene_id), \"std\"].iloc[0]\n",
    "control_group_size = geneid_H0.loc[geneid_H0[\"gene_id\"] == int(gene_id), \"total_sample_count\"].iloc[0]\n",
    "\n",
    "effect_size = calculate_cohen_d(sample_mean=np.mean(sample), control_group_mean=control_group_mean,\n",
    "                  sample_std=np.std(sample), control_group_std=control_group_std,\n",
    "                  sample_length=len(sample), control_group_length=control_group_size)\n",
    "\n",
    "\n",
    "power = calculate_test_power(effect_size, np.mean(sample), control_group_mean, np.std(sample), len(sample))\n",
    "\n",
    "logger.info(f\"Effect Size Calculated: {effect_size}\")\n",
    "logger.info(f\"Power Calculated: {power}\")"
   ]
  },
  {
   "cell_type": "markdown",
   "metadata": {},
   "source": [
    "### Bootstrapping and t-statistic"
   ]
  },
  {
   "cell_type": "code",
   "execution_count": null,
   "metadata": {},
   "outputs": [],
   "source": [
    "from scipy.stats import ttest_1samp\n",
    "import numpy as np\n",
    "\n",
    "\n",
    "# Specify the value to compare against (e.g., the mean of another group)\n",
    "control_group_mean = geneid_H0.loc[geneid_H0[\"gene_id\"] == int(gene_id), \"weighted_mean\"].iloc[0]\n",
    "\n",
    "# Perform bootstraping to calculate p-value\n",
    "B = 10000\n",
    "t_obs_stat = calculate_t_statistic(np.mean(sample), np.std(sample), len(sample), control_group_mean)\n",
    "p_value, bootstraped_samples = calculate_bootstrap_p_value(sample, t_obs_stat, B, control_group_mean) \n",
    "\n",
    "# Display the results\n",
    "print(f\"T-statistic: {t_obs_stat}\")\n",
    "print(f\"P-value: {p_value}\")\n",
    "\n",
    "# Compare the mean directly\n",
    "print(f\"Sample Mean: {control_group_mean}\")\n",
    "print(f\"Control Group Mean: {control_group_mean}\")\n",
    "\n",
    "print(f\"{bootstraped_samples}\")\n"
   ]
  },
  {
   "cell_type": "markdown",
   "metadata": {},
   "source": [
    "Visualizing the Comparison:"
   ]
  },
  {
   "cell_type": "code",
   "execution_count": null,
   "metadata": {},
   "outputs": [],
   "source": [
    "import matplotlib.pyplot as plt\n",
    "import seaborn as sns\n",
    "\n",
    "# Plot the distribution\n",
    "plt.figure(figsize=(10, 6))\n",
    "sns.kdeplot(bootstraped_samples, label='Sample Distribution', shade=True, color='blue', bw_adjust=0.5)\n",
    "\n",
    "# Add a vertical line for the group 3 mean\n",
    "plt.axvline(control_group_mean, color='red', linestyle='--', label=f'Control Group Mean ({control_group_mean:.2f})')\n",
    "plt.axvline(np.mean(bootstraped_samples), color='green', linestyle='--', label=f'Sample Mean ({np.mean(bootstraped_samples):.2f})')\n",
    "\n",
    "# Add labels and legend\n",
    "plt.title('10K BootStraped Samples', fontsize=16)\n",
    "plt.xlabel('Gene Expression Value', fontsize=14)\n",
    "plt.ylabel('Density', fontsize=14)\n",
    "plt.legend(fontsize=12)\n",
    "plt.grid(alpha=0.3)\n",
    "plt.tight_layout()\n",
    "\n",
    "plt.show()\n"
   ]
  },
  {
   "cell_type": "code",
   "execution_count": null,
   "metadata": {},
   "outputs": [],
   "source": []
  }
 ],
 "metadata": {
  "kernelspec": {
   "display_name": "src-Ccial1dq-py3.8",
   "language": "python",
   "name": "python3"
  },
  "language_info": {
   "codemirror_mode": {
    "name": "ipython",
    "version": 3
   },
   "file_extension": ".py",
   "mimetype": "text/x-python",
   "name": "python",
   "nbconvert_exporter": "python",
   "pygments_lexer": "ipython3",
   "version": "3.8.19"
  }
 },
 "nbformat": 4,
 "nbformat_minor": 2
}
